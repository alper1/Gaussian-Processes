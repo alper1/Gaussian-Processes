{
 "cells": [
  {
   "cell_type": "markdown",
   "metadata": {},
   "source": [
    "# Homework 5: Regression with Gaussian Processes\n",
    "\n",
    "------------------------------------------------------\n",
    "*Machine Learning, Master in Big Data Analytics, 2017-2018*\n",
    "\n",
    "*Pablo M. Olmos olmos@tsc.uc3m.es*\n",
    "\n",
    "------------------------------------------------------\n",
    "\n",
    "The aim of this homework is to solve a real data problem using the Gaussian Process implementation of GPy. The documentation of GPy is avaialable from the [SheffieldML github page](https://github.com/SheffieldML/GPy) or from [this page](http://gpy.readthedocs.org/en/latest/). \n",
    "\n",
    "The problem is the prediction of the house prices using the Housing Data Set from  <a href = https://archive.ics.uci.edu/ml/datasets/Housing>  UCI repository</a> that you can also download from scikit learn <a href = http://scikit-learn.org/stable/modules/generated/sklearn.datasets.load_boston.html> here</a>.\n"
   ]
  },
  {
   "cell_type": "markdown",
   "metadata": {},
   "source": [
    "### 1. Loading and preparing the data (1 point)\n",
    "\n",
    "* Download the dataset\n",
    "* Divide the dataset into train (400) and test (106) datasets\n",
    "* Check the range of prices in the train and test datasets"
   ]
  },
  {
   "cell_type": "code",
   "execution_count": null,
   "metadata": {},
   "outputs": [],
   "source": [
    "Alper "
   ]
  },
  {
   "cell_type": "code",
   "execution_count": 36,
   "metadata": {},
   "outputs": [],
   "source": [
    "import numpy as np\n",
    "import GPy\n",
    "from sklearn.model_selection import train_test_split\n",
    "from sklearn.datasets import load_boston\n",
    "import matplotlib.pyplot as plt\n",
    "from sklearn.metrics import mean_absolute_error\n",
    "import random"
   ]
  },
  {
   "cell_type": "code",
   "execution_count": 2,
   "metadata": {},
   "outputs": [
    {
     "name": "stdout",
     "output_type": "stream",
     "text": [
      "(506, 13)\n"
     ]
    }
   ],
   "source": [
    "boston = load_boston()\n",
    "print(boston.data.shape)"
   ]
  },
  {
   "cell_type": "code",
   "execution_count": 3,
   "metadata": {},
   "outputs": [],
   "source": [
    "X_train, X_test, y_train, y_test = train_test_split(boston.data, boston.target, test_size=0.209, random_state=42)"
   ]
  },
  {
   "cell_type": "code",
   "execution_count": 4,
   "metadata": {},
   "outputs": [
    {
     "name": "stdout",
     "output_type": "stream",
     "text": [
      "Price range of train set  5.0 - 50.0\n",
      "Price range of test set  5.0 - 50.0\n"
     ]
    }
   ],
   "source": [
    "print(\"Price range of train set \",np.amin(y_train),\"-\",np.amax(y_train))\n",
    "print(\"Price range of test set \",np.amin(y_test),\"-\",np.amax(y_test))"
   ]
  },
  {
   "cell_type": "markdown",
   "metadata": {},
   "source": [
    "### 2. Setting and optimizing the model\n",
    "\n",
    "On the training data set:\n",
    "\n",
    "a) Build a GP regression model based on a RBF kernel with ARD, in which each input dimension is weighted with a different lengthscale. This enhances interpretability. **2 points**\n",
    "\n",
    "b) Fit the covariance function parameters and noise to the data. **1 point** \n",
    "\n",
    "c) Plot the parameters found for the covariance function. What variables are more important for the regression? **2 points**\n",
    "\n",
    "On the test data set:\n",
    "\n",
    "d) Plot and evaluate the prediction error using the opmitized parameters. **2 points**\n",
    "\n",
    "2) Try to combine various covariance functions using the element-wise product or the sum of two kernels, and repeat steps b) and c). Comments the results. **2 points**\n",
    "\n",
    "In this [link](http://nbviewer.jupyter.org/github/SheffieldML/notebook/blob/master/GPy/basic_kernels.ipynb) you can see how to define differnt kernels and operate with them."
   ]
  },
  {
   "cell_type": "code",
   "execution_count": 5,
   "metadata": {},
   "outputs": [],
   "source": [
    "y_train=y_train.reshape(-1,1)\n",
    "y_test=y_test.reshape(-1,1)"
   ]
  },
  {
   "cell_type": "code",
   "execution_count": 6,
   "metadata": {
    "collapsed": true
   },
   "outputs": [
    {
     "name": "stdout",
     "output_type": "stream",
     "text": [
      "Running L-BFGS-B (Scipy implementation) Code:\n",
      "  runtime   i      f              |g|        \n",
      "    00s18  0003   1.976012e+04   2.017520e+07 \n",
      "    01s21  0024   1.148736e+03   6.197830e+02 \n",
      "    03s30  0068   1.044892e+03   1.212263e+02 \n",
      "    10s46  0249   1.034319e+03   1.765476e-01 \n",
      "    11s46  0275   1.033785e+03   1.022969e-02 \n",
      "    19s59  0470   1.032480e+03   5.900414e-03 \n",
      "    40s75  1002   1.031488e+03   5.886778e-02 \n",
      "Runtime:     40s75\n",
      "Optimization status: Maximum number of f evaluations reached\n",
      "\n"
     ]
    },
    {
     "data": {
      "text/plain": [
       "<paramz.optimization.optimization.opt_lbfgsb at 0x1ed8f936a20>"
      ]
     },
     "execution_count": 6,
     "metadata": {},
     "output_type": "execute_result"
    }
   ],
   "source": [
    "# define kernel\n",
    "ker = GPy.kern.RBF(13,ARD=True) + GPy.kern.White(13)\n",
    "# create GP model\n",
    "m = GPy.models.GPRegression(X_train,y_train,ker)\n",
    "m.optimize(messages=True,max_f_eval = 1000)"
   ]
  },
  {
   "cell_type": "code",
   "execution_count": 7,
   "metadata": {
    "collapsed": true
   },
   "outputs": [
    {
     "name": "stdout",
     "output_type": "stream",
     "text": [
      "['rbf.variance', 'rbf.lengthscale', 'white.variance']\n",
      "[344.02074953]\n",
      "[8.24308442e+01 7.63854722e+02 2.55419467e+02 2.52338956e+00\n",
      " 1.21604286e-01 2.73163105e+00 1.81417394e+02 2.55623793e+01\n",
      " 3.61523257e+01 1.52863851e+02 3.22261824e+01 1.05469050e+03\n",
      " 2.21453772e+01]\n",
      "[2.11111186]\n"
     ]
    }
   ],
   "source": [
    "print(ker.parameter_names())\n",
    "print(ker.rbf.variance.values)\n",
    "print(ker.rbf.lengthscale.values)\n",
    "print(ker.white.variance.values)"
   ]
  },
  {
   "cell_type": "markdown",
   "metadata": {},
   "source": [
    "According to the **lengtscale** values (parameter tells you how will be the importance of the distance between two points in each of the different variables) most important variable is the 12th varaible (\"**B**\": 1000(Bk - 0.63)^2 where Bk is the proportion of blacks by town). Then others: \"ZN\",  \"INDUS\", \"AGE\", \"TAX\"..."
   ]
  },
  {
   "cell_type": "code",
   "execution_count": 71,
   "metadata": {
    "scrolled": true
   },
   "outputs": [
    {
     "name": "stdout",
     "output_type": "stream",
     "text": [
      "Mean Absolute Error: 1.849988662763162\n"
     ]
    }
   ],
   "source": [
    "#PREDICTION AND Mean Absolute Error\n",
    "\n",
    "y_pred,_ = m.predict(X_test, full_cov=True)\n",
    "mae = mean_absolute_error(y_test, y_pred)\n",
    "print(\"Mean Absolute Error:\", mae)"
   ]
  },
  {
   "cell_type": "code",
   "execution_count": 12,
   "metadata": {
    "collapsed": true
   },
   "outputs": [
    {
     "name": "stdout",
     "output_type": "stream",
     "text": [
      "Running L-BFGS-B (Scipy implementation) Code:\n",
      "  runtime   i      f              |g|        \n",
      "    00s09  0001   1.033545e+03   6.172143e+01 "
     ]
    },
    {
     "name": "stderr",
     "output_type": "stream",
     "text": [
      " C:\\Users\\alper\\Anaconda3\\lib\\site-packages\\paramz\\transformations.py:111: RuntimeWarning:overflow encountered in expm1\n"
     ]
    },
    {
     "name": "stdout",
     "output_type": "stream",
     "text": [
      "    00s19  0002   1.038527e+03   3.890121e+02 \n",
      "    03s29  0040   1.027193e+03   3.729339e-01 \n",
      "    09s62  0113   1.026766e+03   1.506317e-02 \n",
      "Runtime:     09s62\n",
      "Optimization status: Converged\n",
      "\n"
     ]
    },
    {
     "data": {
      "text/plain": [
       "<paramz.optimization.optimization.opt_lbfgsb at 0x1ed8fcd5eb8>"
      ]
     },
     "execution_count": 12,
     "metadata": {},
     "output_type": "execute_result"
    }
   ],
   "source": [
    "#2# SUM OF TWO DIFFERENT KERNELS\n",
    "\n",
    "ker2=GPy.kern.ExpQuad(13,ARD=True) + GPy.kern.White(13)\n",
    "ker_add = ker + ker2\n",
    "# create GP model\n",
    "m_add = GPy.models.GPRegression(X_train,y_train,ker_add)\n",
    "m_add.optimize(messages=True,max_f_eval = 1000)"
   ]
  },
  {
   "cell_type": "code",
   "execution_count": 59,
   "metadata": {
    "collapsed": true
   },
   "outputs": [
    {
     "name": "stdout",
     "output_type": "stream",
     "text": [
      "['rbf.variance', 'rbf.lengthscale', 'white.variance', 'ExpQuad.variance', 'ExpQuad.lengthscale', 'white_1.variance']\n",
      "[7.50329807e+01 7.64204859e+02 2.56129368e+02 2.44155722e+00\n",
      " 1.32229896e-01 2.67113612e+00 1.87268953e+02 2.26450263e+01\n",
      " 4.19156843e+01 1.58718984e+02 2.68249046e+01 1.05527117e+03\n",
      " 2.35225731e+01]\n",
      "[5.01001194e+01 1.00000024e+00 1.00021947e+00 1.57122723e-07\n",
      " 4.56888360e-01 6.16173474e+00 3.14327602e+00 1.11168884e+01\n",
      " 1.00010114e+00 9.98386257e-01 9.99023491e-01 4.18488262e+00\n",
      " 6.22929072e-01]\n"
     ]
    }
   ],
   "source": [
    "print(ker_add.parameter_names())\n",
    "print(ker_add.rbf.lengthscale.values)\n",
    "print(ker_add.ExpQuad.lengthscale.values)"
   ]
  },
  {
   "cell_type": "code",
   "execution_count": 39,
   "metadata": {
    "collapsed": true
   },
   "outputs": [
    {
     "name": "stdout",
     "output_type": "stream",
     "text": [
      "Mean Absolute Error for sum of 2 kernels: 1.8440284024714944\n"
     ]
    }
   ],
   "source": [
    "#Prediction of SUM OF 2 DIFFERENT KERNELS\n",
    "\n",
    "y_pred_add,_ = m_add.predict(X_test, full_cov=True)\n",
    "mae = mean_absolute_error(y_test, y_pred_add)\n",
    "print(\"Mean Absolute Error for sum of 2 kernels:\", mae)"
   ]
  },
  {
   "cell_type": "code",
   "execution_count": 70,
   "metadata": {},
   "outputs": [
    {
     "data": {
      "application/javascript": [
       "/* Put everything inside the global mpl namespace */\n",
       "window.mpl = {};\n",
       "\n",
       "\n",
       "mpl.get_websocket_type = function() {\n",
       "    if (typeof(WebSocket) !== 'undefined') {\n",
       "        return WebSocket;\n",
       "    } else if (typeof(MozWebSocket) !== 'undefined') {\n",
       "        return MozWebSocket;\n",
       "    } else {\n",
       "        alert('Your browser does not have WebSocket support.' +\n",
       "              'Please try Chrome, Safari or Firefox ≥ 6. ' +\n",
       "              'Firefox 4 and 5 are also supported but you ' +\n",
       "              'have to enable WebSockets in about:config.');\n",
       "    };\n",
       "}\n",
       "\n",
       "mpl.figure = function(figure_id, websocket, ondownload, parent_element) {\n",
       "    this.id = figure_id;\n",
       "\n",
       "    this.ws = websocket;\n",
       "\n",
       "    this.supports_binary = (this.ws.binaryType != undefined);\n",
       "\n",
       "    if (!this.supports_binary) {\n",
       "        var warnings = document.getElementById(\"mpl-warnings\");\n",
       "        if (warnings) {\n",
       "            warnings.style.display = 'block';\n",
       "            warnings.textContent = (\n",
       "                \"This browser does not support binary websocket messages. \" +\n",
       "                    \"Performance may be slow.\");\n",
       "        }\n",
       "    }\n",
       "\n",
       "    this.imageObj = new Image();\n",
       "\n",
       "    this.context = undefined;\n",
       "    this.message = undefined;\n",
       "    this.canvas = undefined;\n",
       "    this.rubberband_canvas = undefined;\n",
       "    this.rubberband_context = undefined;\n",
       "    this.format_dropdown = undefined;\n",
       "\n",
       "    this.image_mode = 'full';\n",
       "\n",
       "    this.root = $('<div/>');\n",
       "    this._root_extra_style(this.root)\n",
       "    this.root.attr('style', 'display: inline-block');\n",
       "\n",
       "    $(parent_element).append(this.root);\n",
       "\n",
       "    this._init_header(this);\n",
       "    this._init_canvas(this);\n",
       "    this._init_toolbar(this);\n",
       "\n",
       "    var fig = this;\n",
       "\n",
       "    this.waiting = false;\n",
       "\n",
       "    this.ws.onopen =  function () {\n",
       "            fig.send_message(\"supports_binary\", {value: fig.supports_binary});\n",
       "            fig.send_message(\"send_image_mode\", {});\n",
       "            if (mpl.ratio != 1) {\n",
       "                fig.send_message(\"set_dpi_ratio\", {'dpi_ratio': mpl.ratio});\n",
       "            }\n",
       "            fig.send_message(\"refresh\", {});\n",
       "        }\n",
       "\n",
       "    this.imageObj.onload = function() {\n",
       "            if (fig.image_mode == 'full') {\n",
       "                // Full images could contain transparency (where diff images\n",
       "                // almost always do), so we need to clear the canvas so that\n",
       "                // there is no ghosting.\n",
       "                fig.context.clearRect(0, 0, fig.canvas.width, fig.canvas.height);\n",
       "            }\n",
       "            fig.context.drawImage(fig.imageObj, 0, 0);\n",
       "        };\n",
       "\n",
       "    this.imageObj.onunload = function() {\n",
       "        fig.ws.close();\n",
       "    }\n",
       "\n",
       "    this.ws.onmessage = this._make_on_message_function(this);\n",
       "\n",
       "    this.ondownload = ondownload;\n",
       "}\n",
       "\n",
       "mpl.figure.prototype._init_header = function() {\n",
       "    var titlebar = $(\n",
       "        '<div class=\"ui-dialog-titlebar ui-widget-header ui-corner-all ' +\n",
       "        'ui-helper-clearfix\"/>');\n",
       "    var titletext = $(\n",
       "        '<div class=\"ui-dialog-title\" style=\"width: 100%; ' +\n",
       "        'text-align: center; padding: 3px;\"/>');\n",
       "    titlebar.append(titletext)\n",
       "    this.root.append(titlebar);\n",
       "    this.header = titletext[0];\n",
       "}\n",
       "\n",
       "\n",
       "\n",
       "mpl.figure.prototype._canvas_extra_style = function(canvas_div) {\n",
       "\n",
       "}\n",
       "\n",
       "\n",
       "mpl.figure.prototype._root_extra_style = function(canvas_div) {\n",
       "\n",
       "}\n",
       "\n",
       "mpl.figure.prototype._init_canvas = function() {\n",
       "    var fig = this;\n",
       "\n",
       "    var canvas_div = $('<div/>');\n",
       "\n",
       "    canvas_div.attr('style', 'position: relative; clear: both; outline: 0');\n",
       "\n",
       "    function canvas_keyboard_event(event) {\n",
       "        return fig.key_event(event, event['data']);\n",
       "    }\n",
       "\n",
       "    canvas_div.keydown('key_press', canvas_keyboard_event);\n",
       "    canvas_div.keyup('key_release', canvas_keyboard_event);\n",
       "    this.canvas_div = canvas_div\n",
       "    this._canvas_extra_style(canvas_div)\n",
       "    this.root.append(canvas_div);\n",
       "\n",
       "    var canvas = $('<canvas/>');\n",
       "    canvas.addClass('mpl-canvas');\n",
       "    canvas.attr('style', \"left: 0; top: 0; z-index: 0; outline: 0\")\n",
       "\n",
       "    this.canvas = canvas[0];\n",
       "    this.context = canvas[0].getContext(\"2d\");\n",
       "\n",
       "    var backingStore = this.context.backingStorePixelRatio ||\n",
       "\tthis.context.webkitBackingStorePixelRatio ||\n",
       "\tthis.context.mozBackingStorePixelRatio ||\n",
       "\tthis.context.msBackingStorePixelRatio ||\n",
       "\tthis.context.oBackingStorePixelRatio ||\n",
       "\tthis.context.backingStorePixelRatio || 1;\n",
       "\n",
       "    mpl.ratio = (window.devicePixelRatio || 1) / backingStore;\n",
       "\n",
       "    var rubberband = $('<canvas/>');\n",
       "    rubberband.attr('style', \"position: absolute; left: 0; top: 0; z-index: 1;\")\n",
       "\n",
       "    var pass_mouse_events = true;\n",
       "\n",
       "    canvas_div.resizable({\n",
       "        start: function(event, ui) {\n",
       "            pass_mouse_events = false;\n",
       "        },\n",
       "        resize: function(event, ui) {\n",
       "            fig.request_resize(ui.size.width, ui.size.height);\n",
       "        },\n",
       "        stop: function(event, ui) {\n",
       "            pass_mouse_events = true;\n",
       "            fig.request_resize(ui.size.width, ui.size.height);\n",
       "        },\n",
       "    });\n",
       "\n",
       "    function mouse_event_fn(event) {\n",
       "        if (pass_mouse_events)\n",
       "            return fig.mouse_event(event, event['data']);\n",
       "    }\n",
       "\n",
       "    rubberband.mousedown('button_press', mouse_event_fn);\n",
       "    rubberband.mouseup('button_release', mouse_event_fn);\n",
       "    // Throttle sequential mouse events to 1 every 20ms.\n",
       "    rubberband.mousemove('motion_notify', mouse_event_fn);\n",
       "\n",
       "    rubberband.mouseenter('figure_enter', mouse_event_fn);\n",
       "    rubberband.mouseleave('figure_leave', mouse_event_fn);\n",
       "\n",
       "    canvas_div.on(\"wheel\", function (event) {\n",
       "        event = event.originalEvent;\n",
       "        event['data'] = 'scroll'\n",
       "        if (event.deltaY < 0) {\n",
       "            event.step = 1;\n",
       "        } else {\n",
       "            event.step = -1;\n",
       "        }\n",
       "        mouse_event_fn(event);\n",
       "    });\n",
       "\n",
       "    canvas_div.append(canvas);\n",
       "    canvas_div.append(rubberband);\n",
       "\n",
       "    this.rubberband = rubberband;\n",
       "    this.rubberband_canvas = rubberband[0];\n",
       "    this.rubberband_context = rubberband[0].getContext(\"2d\");\n",
       "    this.rubberband_context.strokeStyle = \"#000000\";\n",
       "\n",
       "    this._resize_canvas = function(width, height) {\n",
       "        // Keep the size of the canvas, canvas container, and rubber band\n",
       "        // canvas in synch.\n",
       "        canvas_div.css('width', width)\n",
       "        canvas_div.css('height', height)\n",
       "\n",
       "        canvas.attr('width', width * mpl.ratio);\n",
       "        canvas.attr('height', height * mpl.ratio);\n",
       "        canvas.attr('style', 'width: ' + width + 'px; height: ' + height + 'px;');\n",
       "\n",
       "        rubberband.attr('width', width);\n",
       "        rubberband.attr('height', height);\n",
       "    }\n",
       "\n",
       "    // Set the figure to an initial 600x600px, this will subsequently be updated\n",
       "    // upon first draw.\n",
       "    this._resize_canvas(600, 600);\n",
       "\n",
       "    // Disable right mouse context menu.\n",
       "    $(this.rubberband_canvas).bind(\"contextmenu\",function(e){\n",
       "        return false;\n",
       "    });\n",
       "\n",
       "    function set_focus () {\n",
       "        canvas.focus();\n",
       "        canvas_div.focus();\n",
       "    }\n",
       "\n",
       "    window.setTimeout(set_focus, 100);\n",
       "}\n",
       "\n",
       "mpl.figure.prototype._init_toolbar = function() {\n",
       "    var fig = this;\n",
       "\n",
       "    var nav_element = $('<div/>')\n",
       "    nav_element.attr('style', 'width: 100%');\n",
       "    this.root.append(nav_element);\n",
       "\n",
       "    // Define a callback function for later on.\n",
       "    function toolbar_event(event) {\n",
       "        return fig.toolbar_button_onclick(event['data']);\n",
       "    }\n",
       "    function toolbar_mouse_event(event) {\n",
       "        return fig.toolbar_button_onmouseover(event['data']);\n",
       "    }\n",
       "\n",
       "    for(var toolbar_ind in mpl.toolbar_items) {\n",
       "        var name = mpl.toolbar_items[toolbar_ind][0];\n",
       "        var tooltip = mpl.toolbar_items[toolbar_ind][1];\n",
       "        var image = mpl.toolbar_items[toolbar_ind][2];\n",
       "        var method_name = mpl.toolbar_items[toolbar_ind][3];\n",
       "\n",
       "        if (!name) {\n",
       "            // put a spacer in here.\n",
       "            continue;\n",
       "        }\n",
       "        var button = $('<button/>');\n",
       "        button.addClass('ui-button ui-widget ui-state-default ui-corner-all ' +\n",
       "                        'ui-button-icon-only');\n",
       "        button.attr('role', 'button');\n",
       "        button.attr('aria-disabled', 'false');\n",
       "        button.click(method_name, toolbar_event);\n",
       "        button.mouseover(tooltip, toolbar_mouse_event);\n",
       "\n",
       "        var icon_img = $('<span/>');\n",
       "        icon_img.addClass('ui-button-icon-primary ui-icon');\n",
       "        icon_img.addClass(image);\n",
       "        icon_img.addClass('ui-corner-all');\n",
       "\n",
       "        var tooltip_span = $('<span/>');\n",
       "        tooltip_span.addClass('ui-button-text');\n",
       "        tooltip_span.html(tooltip);\n",
       "\n",
       "        button.append(icon_img);\n",
       "        button.append(tooltip_span);\n",
       "\n",
       "        nav_element.append(button);\n",
       "    }\n",
       "\n",
       "    var fmt_picker_span = $('<span/>');\n",
       "\n",
       "    var fmt_picker = $('<select/>');\n",
       "    fmt_picker.addClass('mpl-toolbar-option ui-widget ui-widget-content');\n",
       "    fmt_picker_span.append(fmt_picker);\n",
       "    nav_element.append(fmt_picker_span);\n",
       "    this.format_dropdown = fmt_picker[0];\n",
       "\n",
       "    for (var ind in mpl.extensions) {\n",
       "        var fmt = mpl.extensions[ind];\n",
       "        var option = $(\n",
       "            '<option/>', {selected: fmt === mpl.default_extension}).html(fmt);\n",
       "        fmt_picker.append(option)\n",
       "    }\n",
       "\n",
       "    // Add hover states to the ui-buttons\n",
       "    $( \".ui-button\" ).hover(\n",
       "        function() { $(this).addClass(\"ui-state-hover\");},\n",
       "        function() { $(this).removeClass(\"ui-state-hover\");}\n",
       "    );\n",
       "\n",
       "    var status_bar = $('<span class=\"mpl-message\"/>');\n",
       "    nav_element.append(status_bar);\n",
       "    this.message = status_bar[0];\n",
       "}\n",
       "\n",
       "mpl.figure.prototype.request_resize = function(x_pixels, y_pixels) {\n",
       "    // Request matplotlib to resize the figure. Matplotlib will then trigger a resize in the client,\n",
       "    // which will in turn request a refresh of the image.\n",
       "    this.send_message('resize', {'width': x_pixels, 'height': y_pixels});\n",
       "}\n",
       "\n",
       "mpl.figure.prototype.send_message = function(type, properties) {\n",
       "    properties['type'] = type;\n",
       "    properties['figure_id'] = this.id;\n",
       "    this.ws.send(JSON.stringify(properties));\n",
       "}\n",
       "\n",
       "mpl.figure.prototype.send_draw_message = function() {\n",
       "    if (!this.waiting) {\n",
       "        this.waiting = true;\n",
       "        this.ws.send(JSON.stringify({type: \"draw\", figure_id: this.id}));\n",
       "    }\n",
       "}\n",
       "\n",
       "\n",
       "mpl.figure.prototype.handle_save = function(fig, msg) {\n",
       "    var format_dropdown = fig.format_dropdown;\n",
       "    var format = format_dropdown.options[format_dropdown.selectedIndex].value;\n",
       "    fig.ondownload(fig, format);\n",
       "}\n",
       "\n",
       "\n",
       "mpl.figure.prototype.handle_resize = function(fig, msg) {\n",
       "    var size = msg['size'];\n",
       "    if (size[0] != fig.canvas.width || size[1] != fig.canvas.height) {\n",
       "        fig._resize_canvas(size[0], size[1]);\n",
       "        fig.send_message(\"refresh\", {});\n",
       "    };\n",
       "}\n",
       "\n",
       "mpl.figure.prototype.handle_rubberband = function(fig, msg) {\n",
       "    var x0 = msg['x0'] / mpl.ratio;\n",
       "    var y0 = (fig.canvas.height - msg['y0']) / mpl.ratio;\n",
       "    var x1 = msg['x1'] / mpl.ratio;\n",
       "    var y1 = (fig.canvas.height - msg['y1']) / mpl.ratio;\n",
       "    x0 = Math.floor(x0) + 0.5;\n",
       "    y0 = Math.floor(y0) + 0.5;\n",
       "    x1 = Math.floor(x1) + 0.5;\n",
       "    y1 = Math.floor(y1) + 0.5;\n",
       "    var min_x = Math.min(x0, x1);\n",
       "    var min_y = Math.min(y0, y1);\n",
       "    var width = Math.abs(x1 - x0);\n",
       "    var height = Math.abs(y1 - y0);\n",
       "\n",
       "    fig.rubberband_context.clearRect(\n",
       "        0, 0, fig.canvas.width, fig.canvas.height);\n",
       "\n",
       "    fig.rubberband_context.strokeRect(min_x, min_y, width, height);\n",
       "}\n",
       "\n",
       "mpl.figure.prototype.handle_figure_label = function(fig, msg) {\n",
       "    // Updates the figure title.\n",
       "    fig.header.textContent = msg['label'];\n",
       "}\n",
       "\n",
       "mpl.figure.prototype.handle_cursor = function(fig, msg) {\n",
       "    var cursor = msg['cursor'];\n",
       "    switch(cursor)\n",
       "    {\n",
       "    case 0:\n",
       "        cursor = 'pointer';\n",
       "        break;\n",
       "    case 1:\n",
       "        cursor = 'default';\n",
       "        break;\n",
       "    case 2:\n",
       "        cursor = 'crosshair';\n",
       "        break;\n",
       "    case 3:\n",
       "        cursor = 'move';\n",
       "        break;\n",
       "    }\n",
       "    fig.rubberband_canvas.style.cursor = cursor;\n",
       "}\n",
       "\n",
       "mpl.figure.prototype.handle_message = function(fig, msg) {\n",
       "    fig.message.textContent = msg['message'];\n",
       "}\n",
       "\n",
       "mpl.figure.prototype.handle_draw = function(fig, msg) {\n",
       "    // Request the server to send over a new figure.\n",
       "    fig.send_draw_message();\n",
       "}\n",
       "\n",
       "mpl.figure.prototype.handle_image_mode = function(fig, msg) {\n",
       "    fig.image_mode = msg['mode'];\n",
       "}\n",
       "\n",
       "mpl.figure.prototype.updated_canvas_event = function() {\n",
       "    // Called whenever the canvas gets updated.\n",
       "    this.send_message(\"ack\", {});\n",
       "}\n",
       "\n",
       "// A function to construct a web socket function for onmessage handling.\n",
       "// Called in the figure constructor.\n",
       "mpl.figure.prototype._make_on_message_function = function(fig) {\n",
       "    return function socket_on_message(evt) {\n",
       "        if (evt.data instanceof Blob) {\n",
       "            /* FIXME: We get \"Resource interpreted as Image but\n",
       "             * transferred with MIME type text/plain:\" errors on\n",
       "             * Chrome.  But how to set the MIME type?  It doesn't seem\n",
       "             * to be part of the websocket stream */\n",
       "            evt.data.type = \"image/png\";\n",
       "\n",
       "            /* Free the memory for the previous frames */\n",
       "            if (fig.imageObj.src) {\n",
       "                (window.URL || window.webkitURL).revokeObjectURL(\n",
       "                    fig.imageObj.src);\n",
       "            }\n",
       "\n",
       "            fig.imageObj.src = (window.URL || window.webkitURL).createObjectURL(\n",
       "                evt.data);\n",
       "            fig.updated_canvas_event();\n",
       "            fig.waiting = false;\n",
       "            return;\n",
       "        }\n",
       "        else if (typeof evt.data === 'string' && evt.data.slice(0, 21) == \"data:image/png;base64\") {\n",
       "            fig.imageObj.src = evt.data;\n",
       "            fig.updated_canvas_event();\n",
       "            fig.waiting = false;\n",
       "            return;\n",
       "        }\n",
       "\n",
       "        var msg = JSON.parse(evt.data);\n",
       "        var msg_type = msg['type'];\n",
       "\n",
       "        // Call the  \"handle_{type}\" callback, which takes\n",
       "        // the figure and JSON message as its only arguments.\n",
       "        try {\n",
       "            var callback = fig[\"handle_\" + msg_type];\n",
       "        } catch (e) {\n",
       "            console.log(\"No handler for the '\" + msg_type + \"' message type: \", msg);\n",
       "            return;\n",
       "        }\n",
       "\n",
       "        if (callback) {\n",
       "            try {\n",
       "                // console.log(\"Handling '\" + msg_type + \"' message: \", msg);\n",
       "                callback(fig, msg);\n",
       "            } catch (e) {\n",
       "                console.log(\"Exception inside the 'handler_\" + msg_type + \"' callback:\", e, e.stack, msg);\n",
       "            }\n",
       "        }\n",
       "    };\n",
       "}\n",
       "\n",
       "// from http://stackoverflow.com/questions/1114465/getting-mouse-location-in-canvas\n",
       "mpl.findpos = function(e) {\n",
       "    //this section is from http://www.quirksmode.org/js/events_properties.html\n",
       "    var targ;\n",
       "    if (!e)\n",
       "        e = window.event;\n",
       "    if (e.target)\n",
       "        targ = e.target;\n",
       "    else if (e.srcElement)\n",
       "        targ = e.srcElement;\n",
       "    if (targ.nodeType == 3) // defeat Safari bug\n",
       "        targ = targ.parentNode;\n",
       "\n",
       "    // jQuery normalizes the pageX and pageY\n",
       "    // pageX,Y are the mouse positions relative to the document\n",
       "    // offset() returns the position of the element relative to the document\n",
       "    var x = e.pageX - $(targ).offset().left;\n",
       "    var y = e.pageY - $(targ).offset().top;\n",
       "\n",
       "    return {\"x\": x, \"y\": y};\n",
       "};\n",
       "\n",
       "/*\n",
       " * return a copy of an object with only non-object keys\n",
       " * we need this to avoid circular references\n",
       " * http://stackoverflow.com/a/24161582/3208463\n",
       " */\n",
       "function simpleKeys (original) {\n",
       "  return Object.keys(original).reduce(function (obj, key) {\n",
       "    if (typeof original[key] !== 'object')\n",
       "        obj[key] = original[key]\n",
       "    return obj;\n",
       "  }, {});\n",
       "}\n",
       "\n",
       "mpl.figure.prototype.mouse_event = function(event, name) {\n",
       "    var canvas_pos = mpl.findpos(event)\n",
       "\n",
       "    if (name === 'button_press')\n",
       "    {\n",
       "        this.canvas.focus();\n",
       "        this.canvas_div.focus();\n",
       "    }\n",
       "\n",
       "    var x = canvas_pos.x * mpl.ratio;\n",
       "    var y = canvas_pos.y * mpl.ratio;\n",
       "\n",
       "    this.send_message(name, {x: x, y: y, button: event.button,\n",
       "                             step: event.step,\n",
       "                             guiEvent: simpleKeys(event)});\n",
       "\n",
       "    /* This prevents the web browser from automatically changing to\n",
       "     * the text insertion cursor when the button is pressed.  We want\n",
       "     * to control all of the cursor setting manually through the\n",
       "     * 'cursor' event from matplotlib */\n",
       "    event.preventDefault();\n",
       "    return false;\n",
       "}\n",
       "\n",
       "mpl.figure.prototype._key_event_extra = function(event, name) {\n",
       "    // Handle any extra behaviour associated with a key event\n",
       "}\n",
       "\n",
       "mpl.figure.prototype.key_event = function(event, name) {\n",
       "\n",
       "    // Prevent repeat events\n",
       "    if (name == 'key_press')\n",
       "    {\n",
       "        if (event.which === this._key)\n",
       "            return;\n",
       "        else\n",
       "            this._key = event.which;\n",
       "    }\n",
       "    if (name == 'key_release')\n",
       "        this._key = null;\n",
       "\n",
       "    var value = '';\n",
       "    if (event.ctrlKey && event.which != 17)\n",
       "        value += \"ctrl+\";\n",
       "    if (event.altKey && event.which != 18)\n",
       "        value += \"alt+\";\n",
       "    if (event.shiftKey && event.which != 16)\n",
       "        value += \"shift+\";\n",
       "\n",
       "    value += 'k';\n",
       "    value += event.which.toString();\n",
       "\n",
       "    this._key_event_extra(event, name);\n",
       "\n",
       "    this.send_message(name, {key: value,\n",
       "                             guiEvent: simpleKeys(event)});\n",
       "    return false;\n",
       "}\n",
       "\n",
       "mpl.figure.prototype.toolbar_button_onclick = function(name) {\n",
       "    if (name == 'download') {\n",
       "        this.handle_save(this, null);\n",
       "    } else {\n",
       "        this.send_message(\"toolbar_button\", {name: name});\n",
       "    }\n",
       "};\n",
       "\n",
       "mpl.figure.prototype.toolbar_button_onmouseover = function(tooltip) {\n",
       "    this.message.textContent = tooltip;\n",
       "};\n",
       "mpl.toolbar_items = [[\"Home\", \"Reset original view\", \"fa fa-home icon-home\", \"home\"], [\"Back\", \"Back to  previous view\", \"fa fa-arrow-left icon-arrow-left\", \"back\"], [\"Forward\", \"Forward to next view\", \"fa fa-arrow-right icon-arrow-right\", \"forward\"], [\"\", \"\", \"\", \"\"], [\"Pan\", \"Pan axes with left mouse, zoom with right\", \"fa fa-arrows icon-move\", \"pan\"], [\"Zoom\", \"Zoom to rectangle\", \"fa fa-square-o icon-check-empty\", \"zoom\"], [\"\", \"\", \"\", \"\"], [\"Download\", \"Download plot\", \"fa fa-floppy-o icon-save\", \"download\"]];\n",
       "\n",
       "mpl.extensions = [\"eps\", \"jpeg\", \"pdf\", \"png\", \"ps\", \"raw\", \"svg\", \"tif\"];\n",
       "\n",
       "mpl.default_extension = \"png\";var comm_websocket_adapter = function(comm) {\n",
       "    // Create a \"websocket\"-like object which calls the given IPython comm\n",
       "    // object with the appropriate methods. Currently this is a non binary\n",
       "    // socket, so there is still some room for performance tuning.\n",
       "    var ws = {};\n",
       "\n",
       "    ws.close = function() {\n",
       "        comm.close()\n",
       "    };\n",
       "    ws.send = function(m) {\n",
       "        //console.log('sending', m);\n",
       "        comm.send(m);\n",
       "    };\n",
       "    // Register the callback with on_msg.\n",
       "    comm.on_msg(function(msg) {\n",
       "        //console.log('receiving', msg['content']['data'], msg);\n",
       "        // Pass the mpl event to the overriden (by mpl) onmessage function.\n",
       "        ws.onmessage(msg['content']['data'])\n",
       "    });\n",
       "    return ws;\n",
       "}\n",
       "\n",
       "mpl.mpl_figure_comm = function(comm, msg) {\n",
       "    // This is the function which gets called when the mpl process\n",
       "    // starts-up an IPython Comm through the \"matplotlib\" channel.\n",
       "\n",
       "    var id = msg.content.data.id;\n",
       "    // Get hold of the div created by the display call when the Comm\n",
       "    // socket was opened in Python.\n",
       "    var element = $(\"#\" + id);\n",
       "    var ws_proxy = comm_websocket_adapter(comm)\n",
       "\n",
       "    function ondownload(figure, format) {\n",
       "        window.open(figure.imageObj.src);\n",
       "    }\n",
       "\n",
       "    var fig = new mpl.figure(id, ws_proxy,\n",
       "                           ondownload,\n",
       "                           element.get(0));\n",
       "\n",
       "    // Call onopen now - mpl needs it, as it is assuming we've passed it a real\n",
       "    // web socket which is closed, not our websocket->open comm proxy.\n",
       "    ws_proxy.onopen();\n",
       "\n",
       "    fig.parent_element = element.get(0);\n",
       "    fig.cell_info = mpl.find_output_cell(\"<div id='\" + id + \"'></div>\");\n",
       "    if (!fig.cell_info) {\n",
       "        console.error(\"Failed to find cell for figure\", id, fig);\n",
       "        return;\n",
       "    }\n",
       "\n",
       "    var output_index = fig.cell_info[2]\n",
       "    var cell = fig.cell_info[0];\n",
       "\n",
       "};\n",
       "\n",
       "mpl.figure.prototype.handle_close = function(fig, msg) {\n",
       "    var width = fig.canvas.width/mpl.ratio\n",
       "    fig.root.unbind('remove')\n",
       "\n",
       "    // Update the output cell to use the data from the current canvas.\n",
       "    fig.push_to_output();\n",
       "    var dataURL = fig.canvas.toDataURL();\n",
       "    // Re-enable the keyboard manager in IPython - without this line, in FF,\n",
       "    // the notebook keyboard shortcuts fail.\n",
       "    IPython.keyboard_manager.enable()\n",
       "    $(fig.parent_element).html('<img src=\"' + dataURL + '\" width=\"' + width + '\">');\n",
       "    fig.close_ws(fig, msg);\n",
       "}\n",
       "\n",
       "mpl.figure.prototype.close_ws = function(fig, msg){\n",
       "    fig.send_message('closing', msg);\n",
       "    // fig.ws.close()\n",
       "}\n",
       "\n",
       "mpl.figure.prototype.push_to_output = function(remove_interactive) {\n",
       "    // Turn the data on the canvas into data in the output cell.\n",
       "    var width = this.canvas.width/mpl.ratio\n",
       "    var dataURL = this.canvas.toDataURL();\n",
       "    this.cell_info[1]['text/html'] = '<img src=\"' + dataURL + '\" width=\"' + width + '\">';\n",
       "}\n",
       "\n",
       "mpl.figure.prototype.updated_canvas_event = function() {\n",
       "    // Tell IPython that the notebook contents must change.\n",
       "    IPython.notebook.set_dirty(true);\n",
       "    this.send_message(\"ack\", {});\n",
       "    var fig = this;\n",
       "    // Wait a second, then push the new image to the DOM so\n",
       "    // that it is saved nicely (might be nice to debounce this).\n",
       "    setTimeout(function () { fig.push_to_output() }, 1000);\n",
       "}\n",
       "\n",
       "mpl.figure.prototype._init_toolbar = function() {\n",
       "    var fig = this;\n",
       "\n",
       "    var nav_element = $('<div/>')\n",
       "    nav_element.attr('style', 'width: 100%');\n",
       "    this.root.append(nav_element);\n",
       "\n",
       "    // Define a callback function for later on.\n",
       "    function toolbar_event(event) {\n",
       "        return fig.toolbar_button_onclick(event['data']);\n",
       "    }\n",
       "    function toolbar_mouse_event(event) {\n",
       "        return fig.toolbar_button_onmouseover(event['data']);\n",
       "    }\n",
       "\n",
       "    for(var toolbar_ind in mpl.toolbar_items){\n",
       "        var name = mpl.toolbar_items[toolbar_ind][0];\n",
       "        var tooltip = mpl.toolbar_items[toolbar_ind][1];\n",
       "        var image = mpl.toolbar_items[toolbar_ind][2];\n",
       "        var method_name = mpl.toolbar_items[toolbar_ind][3];\n",
       "\n",
       "        if (!name) { continue; };\n",
       "\n",
       "        var button = $('<button class=\"btn btn-default\" href=\"#\" title=\"' + name + '\"><i class=\"fa ' + image + ' fa-lg\"></i></button>');\n",
       "        button.click(method_name, toolbar_event);\n",
       "        button.mouseover(tooltip, toolbar_mouse_event);\n",
       "        nav_element.append(button);\n",
       "    }\n",
       "\n",
       "    // Add the status bar.\n",
       "    var status_bar = $('<span class=\"mpl-message\" style=\"text-align:right; float: right;\"/>');\n",
       "    nav_element.append(status_bar);\n",
       "    this.message = status_bar[0];\n",
       "\n",
       "    // Add the close button to the window.\n",
       "    var buttongrp = $('<div class=\"btn-group inline pull-right\"></div>');\n",
       "    var button = $('<button class=\"btn btn-mini btn-primary\" href=\"#\" title=\"Stop Interaction\"><i class=\"fa fa-power-off icon-remove icon-large\"></i></button>');\n",
       "    button.click(function (evt) { fig.handle_close(fig, {}); } );\n",
       "    button.mouseover('Stop Interaction', toolbar_mouse_event);\n",
       "    buttongrp.append(button);\n",
       "    var titlebar = this.root.find($('.ui-dialog-titlebar'));\n",
       "    titlebar.prepend(buttongrp);\n",
       "}\n",
       "\n",
       "mpl.figure.prototype._root_extra_style = function(el){\n",
       "    var fig = this\n",
       "    el.on(\"remove\", function(){\n",
       "\tfig.close_ws(fig, {});\n",
       "    });\n",
       "}\n",
       "\n",
       "mpl.figure.prototype._canvas_extra_style = function(el){\n",
       "    // this is important to make the div 'focusable\n",
       "    el.attr('tabindex', 0)\n",
       "    // reach out to IPython and tell the keyboard manager to turn it's self\n",
       "    // off when our div gets focus\n",
       "\n",
       "    // location in version 3\n",
       "    if (IPython.notebook.keyboard_manager) {\n",
       "        IPython.notebook.keyboard_manager.register_events(el);\n",
       "    }\n",
       "    else {\n",
       "        // location in version 2\n",
       "        IPython.keyboard_manager.register_events(el);\n",
       "    }\n",
       "\n",
       "}\n",
       "\n",
       "mpl.figure.prototype._key_event_extra = function(event, name) {\n",
       "    var manager = IPython.notebook.keyboard_manager;\n",
       "    if (!manager)\n",
       "        manager = IPython.keyboard_manager;\n",
       "\n",
       "    // Check for shift+enter\n",
       "    if (event.shiftKey && event.which == 13) {\n",
       "        this.canvas_div.blur();\n",
       "        event.shiftKey = false;\n",
       "        // Send a \"J\" for go to next cell\n",
       "        event.which = 74;\n",
       "        event.keyCode = 74;\n",
       "        manager.command_mode();\n",
       "        manager.handle_keydown(event);\n",
       "    }\n",
       "}\n",
       "\n",
       "mpl.figure.prototype.handle_save = function(fig, msg) {\n",
       "    fig.ondownload(fig, null);\n",
       "}\n",
       "\n",
       "\n",
       "mpl.find_output_cell = function(html_output) {\n",
       "    // Return the cell and output element which can be found *uniquely* in the notebook.\n",
       "    // Note - this is a bit hacky, but it is done because the \"notebook_saving.Notebook\"\n",
       "    // IPython event is triggered only after the cells have been serialised, which for\n",
       "    // our purposes (turning an active figure into a static one), is too late.\n",
       "    var cells = IPython.notebook.get_cells();\n",
       "    var ncells = cells.length;\n",
       "    for (var i=0; i<ncells; i++) {\n",
       "        var cell = cells[i];\n",
       "        if (cell.cell_type === 'code'){\n",
       "            for (var j=0; j<cell.output_area.outputs.length; j++) {\n",
       "                var data = cell.output_area.outputs[j];\n",
       "                if (data.data) {\n",
       "                    // IPython >= 3 moved mimebundle to data attribute of output\n",
       "                    data = data.data;\n",
       "                }\n",
       "                if (data['text/html'] == html_output) {\n",
       "                    return [cell, data, j];\n",
       "                }\n",
       "            }\n",
       "        }\n",
       "    }\n",
       "}\n",
       "\n",
       "// Register the function which deals with the matplotlib target/channel.\n",
       "// The kernel may be null if the page has been refreshed.\n",
       "if (IPython.notebook.kernel != null) {\n",
       "    IPython.notebook.kernel.comm_manager.register_target('matplotlib', mpl.mpl_figure_comm);\n",
       "}\n"
      ],
      "text/plain": [
       "<IPython.core.display.Javascript object>"
      ]
     },
     "metadata": {},
     "output_type": "display_data"
    },
    {
     "data": {
      "text/html": [
       "<img src=\"data:image/png;base64,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\" width=\"670.4762209245691\">"
      ],
      "text/plain": [
       "<IPython.core.display.HTML object>"
      ]
     },
     "metadata": {},
     "output_type": "display_data"
    }
   ],
   "source": [
    "#Plots with 2 kernels\n",
    "%matplotlib notebook \n",
    "p = ker.rbf.lengthscale.values\n",
    "p_add = (ker_add.rbf.lengthscale.values+ker_add.ExpQuad.lengthscale.values)/2\n",
    "plt.figure()\n",
    "plt.plot(p, label=\"Lengthscale values of RBF Kernel\")\n",
    "plt.plot(p_add, label=\"Lengthscale values of RBF+ExpQuad Kernel\")\n",
    "plt.legend()\n",
    "plt.show()"
   ]
  },
  {
   "cell_type": "markdown",
   "metadata": {},
   "source": [
    "**I used sum of 2 different kernels (RBF + ExpQuad). Comparing the MAE scores, they perform almost same.**\n",
    " \n",
    "**According to the plot, order of the variables according to the importance does not change with these 2 kernels.**"
   ]
  },
  {
   "cell_type": "markdown",
   "metadata": {},
   "source": [
    "### Sparse GP implementation (optional)\n",
    "\n",
    "Try to implement an sparse version of the GP regressor, optimized to find a set of **inducing points** that the GP relies on to do the prediction. Measure the test error prediction for 20, 40, and 100 inducing points."
   ]
  },
  {
   "cell_type": "code",
   "execution_count": 26,
   "metadata": {
    "collapsed": true
   },
   "outputs": [
    {
     "name": "stdout",
     "output_type": "stream",
     "text": [
      "\n",
      "Name : sparse_gp\n",
      "Objective : 121349.95030893994\n",
      "Number of Parameters : 133\n",
      "Number of Optimization Parameters : 133\n",
      "Updates : True\n",
      "Parameters:\n",
      "  \u001b[1msparse_gp.             \u001b[0;0m  |     value  |  constraints  |  priors\n",
      "  \u001b[1minducing_inputs        \u001b[0;0m  |  (10, 13)  |               |        \n",
      "  \u001b[1mrbf.variance           \u001b[0;0m  |       1.0  |      +ve      |        \n",
      "  \u001b[1mrbf.lengthscale        \u001b[0;0m  |       1.0  |      +ve      |        \n",
      "  \u001b[1mGaussian_noise.variance\u001b[0;0m  |       1.0  |      +ve      |        \n"
     ]
    },
    {
     "data": {
      "text/plain": [
       "<paramz.optimization.optimization.opt_lbfgsb at 0x1ed916b5470>"
      ]
     },
     "execution_count": 26,
     "metadata": {},
     "output_type": "execute_result"
    }
   ],
   "source": [
    "m_sparse = GPy.models.SparseGPRegression(X_train,y_train)\n",
    "print(m_sparse)\n",
    "m_sparse.optimize('bfgs')"
   ]
  },
  {
   "cell_type": "code",
   "execution_count": 40,
   "metadata": {},
   "outputs": [
    {
     "name": "stdout",
     "output_type": "stream",
     "text": [
      "Mean Absolute Error: 21.28773584905337\n"
     ]
    }
   ],
   "source": [
    "#MAE\n",
    "y_pred_sparse,_ = m_sparse.predict(X_test, full_cov=True)\n",
    "mae = mean_absolute_error(y_test, y_pred_sparse)\n",
    "print(\"Mean Absolute Error:\", mae)"
   ]
  },
  {
   "cell_type": "code",
   "execution_count": 28,
   "metadata": {
    "collapsed": true
   },
   "outputs": [
    {
     "name": "stdout",
     "output_type": "stream",
     "text": [
      "\n",
      "Name : sparse_gp\n",
      "Objective : 4938.502068232217\n",
      "Number of Parameters : 133\n",
      "Number of Optimization Parameters : 133\n",
      "Updates : True\n",
      "Parameters:\n",
      "  \u001b[1msparse_gp.             \u001b[0;0m  |     value  |  constraints  |  priors\n",
      "  \u001b[1minducing_inputs        \u001b[0;0m  |  (10, 13)  |               |        \n",
      "  \u001b[1mrbf.variance           \u001b[0;0m  |       1.0  |      +ve      |        \n",
      "  \u001b[1mrbf.lengthscale        \u001b[0;0m  |       1.0  |      +ve      |        \n",
      "  \u001b[1mGaussian_noise.variance\u001b[0;0m  |       1.0  |      +ve      |        \n"
     ]
    },
    {
     "data": {
      "text/plain": [
       "<paramz.optimization.optimization.opt_lbfgsb at 0x1ed916b57b8>"
      ]
     },
     "execution_count": 28,
     "metadata": {},
     "output_type": "execute_result"
    }
   ],
   "source": [
    "#Randomly chosen 20 inducing points\n",
    "\n",
    "ins=np.random.choice(400,20)\n",
    "m_sparse_20 = GPy.models.SparseGPRegression(X_train[ins,:],y_train[ins,:])\n",
    "print(m_sparse_20)\n",
    "#m_sparse.inducing_inputs.fix()\n",
    "m_sparse.optimize('bfgs')"
   ]
  },
  {
   "cell_type": "code",
   "execution_count": 41,
   "metadata": {},
   "outputs": [
    {
     "name": "stdout",
     "output_type": "stream",
     "text": [
      "Mean Absolute Error: 21.287713800936114\n"
     ]
    }
   ],
   "source": [
    "#MAE 20\n",
    "y_pred_sparse_20,_ = m_sparse_20.predict(X_test, full_cov=True)\n",
    "mae = mean_absolute_error(y_test, y_pred_sparse_20)\n",
    "print(\"Mean Absolute Error:\", mae)"
   ]
  },
  {
   "cell_type": "code",
   "execution_count": 30,
   "metadata": {
    "collapsed": true
   },
   "outputs": [
    {
     "name": "stdout",
     "output_type": "stream",
     "text": [
      "\n",
      "Name : sparse_gp\n",
      "Objective : 9141.082777236019\n",
      "Number of Parameters : 133\n",
      "Number of Optimization Parameters : 133\n",
      "Updates : True\n",
      "Parameters:\n",
      "  \u001b[1msparse_gp.             \u001b[0;0m  |     value  |  constraints  |  priors\n",
      "  \u001b[1minducing_inputs        \u001b[0;0m  |  (10, 13)  |               |        \n",
      "  \u001b[1mrbf.variance           \u001b[0;0m  |       1.0  |      +ve      |        \n",
      "  \u001b[1mrbf.lengthscale        \u001b[0;0m  |       1.0  |      +ve      |        \n",
      "  \u001b[1mGaussian_noise.variance\u001b[0;0m  |       1.0  |      +ve      |        \n"
     ]
    },
    {
     "data": {
      "text/plain": [
       "<paramz.optimization.optimization.opt_lbfgsb at 0x1ed916c2cc0>"
      ]
     },
     "execution_count": 30,
     "metadata": {},
     "output_type": "execute_result"
    }
   ],
   "source": [
    "#Randomly chosen 40 inducing points\n",
    "\n",
    "ins=np.random.choice(400,40)\n",
    "m_sparse_40 = GPy.models.SparseGPRegression(X_train[ins,:],y_train[ins,:])\n",
    "print(m_sparse_40)\n",
    "#m_sparse.inducing_inputs.fix()\n",
    "m_sparse.optimize('bfgs')"
   ]
  },
  {
   "cell_type": "code",
   "execution_count": 42,
   "metadata": {},
   "outputs": [
    {
     "name": "stdout",
     "output_type": "stream",
     "text": [
      "Mean Absolute Error: 21.07303358052602\n"
     ]
    }
   ],
   "source": [
    "#MAE 40\n",
    "y_pred_sparse_40,_ = m_sparse_40.predict(X_test, full_cov=True)\n",
    "mae = mean_absolute_error(y_test, y_pred_sparse_40)\n",
    "print(\"Mean Absolute Error:\", mae)"
   ]
  },
  {
   "cell_type": "code",
   "execution_count": 33,
   "metadata": {
    "collapsed": true
   },
   "outputs": [
    {
     "name": "stdout",
     "output_type": "stream",
     "text": [
      "\n",
      "Name : sparse_gp\n",
      "Objective : 29096.19775717365\n",
      "Number of Parameters : 133\n",
      "Number of Optimization Parameters : 133\n",
      "Updates : True\n",
      "Parameters:\n",
      "  \u001b[1msparse_gp.             \u001b[0;0m  |     value  |  constraints  |  priors\n",
      "  \u001b[1minducing_inputs        \u001b[0;0m  |  (10, 13)  |               |        \n",
      "  \u001b[1mrbf.variance           \u001b[0;0m  |       1.0  |      +ve      |        \n",
      "  \u001b[1mrbf.lengthscale        \u001b[0;0m  |       1.0  |      +ve      |        \n",
      "  \u001b[1mGaussian_noise.variance\u001b[0;0m  |       1.0  |      +ve      |        \n"
     ]
    },
    {
     "data": {
      "text/plain": [
       "<paramz.optimization.optimization.opt_lbfgsb at 0x1ed91674cf8>"
      ]
     },
     "execution_count": 33,
     "metadata": {},
     "output_type": "execute_result"
    }
   ],
   "source": [
    "#Randomly chosen 100 inducing points\n",
    "\n",
    "ins=np.random.choice(400,100)\n",
    "m_sparse_100 = GPy.models.SparseGPRegression(X_train[ins,:],y_train[ins,:])\n",
    "print(m_sparse_100)\n",
    "#m_sparse.inducing_inputs.fix()\n",
    "m_sparse_100.optimize('bfgs')"
   ]
  },
  {
   "cell_type": "code",
   "execution_count": 43,
   "metadata": {},
   "outputs": [
    {
     "name": "stdout",
     "output_type": "stream",
     "text": [
      "Mean Absolute Error: 3.4009817938314737\n"
     ]
    }
   ],
   "source": [
    "#MAE 100\n",
    "y_pred_sparse_100,_ = m_sparse_100.predict(X_test, full_cov=True)\n",
    "mae = mean_absolute_error(y_test, y_pred_sparse_100)\n",
    "print(\"Mean Absolute Error:\", mae)"
   ]
  },
  {
   "cell_type": "markdown",
   "metadata": {},
   "source": [
    "**Each time I increase the *inducing points*, obtained mae score decreased. Training with more data points improved the model performance**"
   ]
  }
 ],
 "metadata": {
  "kernelspec": {
   "display_name": "Python 3",
   "language": "python",
   "name": "python3"
  },
  "language_info": {
   "codemirror_mode": {
    "name": "ipython",
    "version": 3
   },
   "file_extension": ".py",
   "mimetype": "text/x-python",
   "name": "python",
   "nbconvert_exporter": "python",
   "pygments_lexer": "ipython3",
   "version": "3.6.4"
  }
 },
 "nbformat": 4,
 "nbformat_minor": 1
}
