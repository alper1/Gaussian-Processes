{
 "cells": [
  {
   "cell_type": "markdown",
   "metadata": {},
   "source": [
    "### 1. Loading and preparing the data \n",
    "\n",
    "* Download the dataset\n",
    "* Divide the dataset into train (400) and test (106) datasets\n",
    "* Check the range of prices in the train and test datasets"
   ]
  },
  {
   "cell_type": "markdown",
   "metadata": {},
   "source": [
    "Alper Kocabiyik"
   ]
  },
  {
   "cell_type": "code",
   "execution_count": 1,
   "metadata": {},
   "outputs": [],
   "source": [
    "import numpy as np\n",
    "import GPy\n",
    "from sklearn.model_selection import train_test_split\n",
    "from sklearn.datasets import load_boston\n",
    "import matplotlib.pyplot as plt\n",
    "from sklearn.metrics import mean_absolute_error\n",
    "import random"
   ]
  },
  {
   "cell_type": "code",
   "execution_count": 2,
   "metadata": {},
   "outputs": [
    {
     "name": "stdout",
     "output_type": "stream",
     "text": [
      "(506, 13)\n"
     ]
    }
   ],
   "source": [
    "boston = load_boston()\n",
    "print(boston.data.shape)"
   ]
  },
  {
   "cell_type": "code",
   "execution_count": 3,
   "metadata": {},
   "outputs": [],
   "source": [
    "X_train, X_test, y_train, y_test = train_test_split(boston.data, boston.target, test_size=0.209, random_state=42)"
   ]
  },
  {
   "cell_type": "code",
   "execution_count": 5,
   "metadata": {},
   "outputs": [
    {
     "name": "stdout",
     "output_type": "stream",
     "text": [
      "Price range of train set  5.0 - 50.0\n",
      "Price range of test set  5.0 - 50.0\n"
     ]
    }
   ],
   "source": [
    "print(\"Price range of train set \",np.amin(y_train),\"-\",np.amax(y_train))\n",
    "print(\"Price range of test set \",np.amin(y_test),\"-\",np.amax(y_test))"
   ]
  },
  {
   "cell_type": "markdown",
   "metadata": {},
   "source": [
    "### 2. Setting and optimizing the model\n",
    "\n",
    "On the training data set:\n",
    "\n",
    "a) Build a GP regression model based on a RBF kernel with ARD, in which each input dimension is weighted with a different lengthscale. This enhances interpretability. \n",
    "\n",
    "b) Fit the covariance function parameters and noise to the data.  \n",
    "\n",
    "c) Plot the parameters found for the covariance function. What variables are more important for the regression? \n",
    "\n",
    "On the test data set:\n",
    "\n",
    "d) Plot and evaluate the prediction error using the opmitized parameters. \n",
    "\n",
    "2) Try to combine various covariance functions using the element-wise product or the sum of two kernels, and repeat steps b) and c). Comments the results. \n",
    "\n",
    "In this [link](http://nbviewer.jupyter.org/github/SheffieldML/notebook/blob/master/GPy/basic_kernels.ipynb) you can see how to define differnt kernels and operate with them."
   ]
  },
  {
   "cell_type": "code",
   "execution_count": 5,
   "metadata": {},
   "outputs": [],
   "source": [
    "y_train=y_train.reshape(-1,1)\n",
    "y_test=y_test.reshape(-1,1)"
   ]
  },
  {
   "cell_type": "code",
   "execution_count": 6,
   "metadata": {
    "scrolled": true
   },
   "outputs": [
    {
     "name": "stdout",
     "output_type": "stream",
     "text": [
      "Running L-BFGS-B (Scipy implementation) Code:\n",
      "  runtime   i      f              |g|        \n",
      "    00s17  0002   4.109608e+04   2.178230e+08 \n",
      "    02s30  0025   1.093131e+03   1.373305e+02 \n",
      "    03s35  0045   1.043484e+03   4.675739e-02 \n",
      "    10s68  0163   1.036697e+03   4.471362e-03 \n",
      "    22s09  0342   1.036202e+03   1.413309e-03 \n",
      "    37s65  0577   1.036119e+03   8.410276e-05 \n",
      "    49s60  0759   1.035525e+03   2.972660e-01 "
     ]
    },
    {
     "name": "stderr",
     "output_type": "stream",
     "text": [
      " C:\\Users\\alper\\Anaconda3\\lib\\site-packages\\GPy\\kern\\src\\stationary.py:136: RuntimeWarning:overflow encountered in square\n",
      " C:\\Users\\alper\\Anaconda3\\lib\\site-packages\\GPy\\kern\\src\\stationary.py:137: RuntimeWarning:invalid value encountered in add\n"
     ]
    },
    {
     "name": "stdout",
     "output_type": "stream",
     "text": [
      "\n",
      "Runtime:     49s60\n",
      "Optimization status: Converged\n",
      "\n"
     ]
    },
    {
     "data": {
      "text/plain": [
       "<paramz.optimization.optimization.opt_lbfgsb at 0x1e412315eb8>"
      ]
     },
     "execution_count": 6,
     "metadata": {},
     "output_type": "execute_result"
    }
   ],
   "source": [
    "# define kernel\n",
    "ker = GPy.kern.RBF(13,ARD=True)\n",
    "# create GP model\n",
    "m = GPy.models.GPRegression(X_train,y_train,ker)\n",
    "m.optimize(messages=True,max_f_eval = 1000)"
   ]
  },
  {
   "cell_type": "code",
   "execution_count": 7,
   "metadata": {
    "scrolled": true
   },
   "outputs": [
    {
     "name": "stdout",
     "output_type": "stream",
     "text": [
      "['variance', 'lengthscale']\n",
      "[517.91253894]\n",
      "[421.5529344  817.74515819  93.2687583   14.83727935   4.3492698\n",
      "   3.19482338 217.30227851   4.54312038 297.85173937 163.55846122\n",
      "  38.00683725 181.5839758   15.17263592]\n"
     ]
    }
   ],
   "source": [
    "print(ker.parameter_names())\n",
    "print(ker.variance.values)\n",
    "print(ker.lengthscale.values)"
   ]
  },
  {
   "cell_type": "code",
   "execution_count": 9,
   "metadata": {},
   "outputs": [
    {
     "name": "stdout",
     "output_type": "stream",
     "text": [
      "['CRIM' 'ZN' 'INDUS' 'CHAS' 'NOX' 'RM' 'AGE' 'DIS' 'RAD' 'TAX' 'PTRATIO'\n",
      " 'B' 'LSTAT']\n"
     ]
    }
   ],
   "source": [
    "print(boston.feature_names)"
   ]
  },
  {
   "cell_type": "markdown",
   "metadata": {},
   "source": [
    "According to the **lengtscale** values (lower lengthscale value means more importance) most important variable is the 5th varaible (\"**RM**\": average number of rooms per dwelling). Then others: \"NOX\", \"DIS\", ..."
   ]
  },
  {
   "cell_type": "code",
   "execution_count": 8,
   "metadata": {
    "scrolled": true
   },
   "outputs": [
    {
     "name": "stdout",
     "output_type": "stream",
     "text": [
      "Mean Absolute Error: 1.9540448407960398\n"
     ]
    }
   ],
   "source": [
    "#PREDICTION AND Mean Absolute Error\n",
    "\n",
    "y_pred,_ = m.predict(X_test, full_cov=True)\n",
    "mae = mean_absolute_error(y_test, y_pred)\n",
    "print(\"Mean Absolute Error:\", mae)"
   ]
  },
  {
   "cell_type": "code",
   "execution_count": 9,
   "metadata": {},
   "outputs": [
    {
     "name": "stdout",
     "output_type": "stream",
     "text": [
      "Running L-BFGS-B (Scipy implementation) Code:\n",
      "  runtime   i      f              |g|        \n",
      "\r",
      "    00s00  0000   1.077277e+03           nan "
     ]
    },
    {
     "name": "stderr",
     "output_type": "stream",
     "text": [
      " C:\\Users\\alper\\Anaconda3\\lib\\site-packages\\paramz\\transformations.py:111: RuntimeWarning:overflow encountered in expm1\n"
     ]
    },
    {
     "name": "stdout",
     "output_type": "stream",
     "text": [
      "    01s16  0009   1.034444e+03   1.235313e+00 \n",
      "    05s51  0042   1.028275e+03   9.272640e-01 \n",
      "    17s15  0129   1.023279e+03   1.594215e+00 \n",
      "    35s23  0259   1.022358e+03   6.046361e-01 \n",
      "Runtime:     35s23\n",
      "Optimization status: Converged\n",
      "\n"
     ]
    },
    {
     "data": {
      "text/plain": [
       "<paramz.optimization.optimization.opt_lbfgsb at 0x1e412359e48>"
      ]
     },
     "execution_count": 9,
     "metadata": {},
     "output_type": "execute_result"
    }
   ],
   "source": [
    "#2# SUM OF TWO DIFFERENT KERNELS\n",
    "\n",
    "ker2=GPy.kern.ExpQuad(13,ARD=True)\n",
    "ker_add = ker + ker2\n",
    "# create GP model\n",
    "m_add = GPy.models.GPRegression(X_train,y_train,ker_add)\n",
    "m_add.optimize(messages=True,max_f_eval = 1000)"
   ]
  },
  {
   "cell_type": "code",
   "execution_count": 10,
   "metadata": {},
   "outputs": [
    {
     "name": "stdout",
     "output_type": "stream",
     "text": [
      "['rbf.variance', 'rbf.lengthscale', 'ExpQuad.variance', 'ExpQuad.lengthscale']\n",
      "[420.919877   817.78127912  95.36106453   7.60436301   2.58090115\n",
      "   3.16241819 218.2629814    6.87709543 297.80917354 174.46558144\n",
      "  37.56152149 187.52083858  18.24227382]\n",
      "[3.36445998e+01 9.99998670e-01 9.98126270e-01 2.80412867e-08\n",
      " 4.71935457e+00 8.25044826e-01 1.82548878e+01 5.03183193e-01\n",
      " 9.96812224e-01 9.99420386e-01 1.00217025e+00 1.16003655e+01\n",
      " 7.15435846e-01]\n"
     ]
    }
   ],
   "source": [
    "print(ker_add.parameter_names())\n",
    "print(ker_add.rbf.lengthscale.values)\n",
    "print(ker_add.ExpQuad.lengthscale.values)"
   ]
  },
  {
   "cell_type": "code",
   "execution_count": 25,
   "metadata": {},
   "outputs": [
    {
     "name": "stdout",
     "output_type": "stream",
     "text": [
      "Mean Absolute Error for sum of 2 kernels: 2.065159247974715\n"
     ]
    }
   ],
   "source": [
    "#Prediction of SUM OF 2 DIFFERENT KERNELS\n",
    "\n",
    "y_pred_add,_ = m_add.predict(X_test, full_cov=True)\n",
    "mae = mean_absolute_error(y_test, y_pred_add)\n",
    "print(\"Mean Absolute Error for sum of 2 kernels:\", mae)"
   ]
  },
  {
   "cell_type": "code",
   "execution_count": 34,
   "metadata": {},
   "outputs": [
    {
     "data": {
      "application/javascript": [
       "/* Put everything inside the global mpl namespace */\n",
       "window.mpl = {};\n",
       "\n",
       "\n",
       "mpl.get_websocket_type = function() {\n",
       "    if (typeof(WebSocket) !== 'undefined') {\n",
       "        return WebSocket;\n",
       "    } else if (typeof(MozWebSocket) !== 'undefined') {\n",
       "        return MozWebSocket;\n",
       "    } else {\n",
       "        alert('Your browser does not have WebSocket support.' +\n",
       "              'Please try Chrome, Safari or Firefox ≥ 6. ' +\n",
       "              'Firefox 4 and 5 are also supported but you ' +\n",
       "              'have to enable WebSockets in about:config.');\n",
       "    };\n",
       "}\n",
       "\n",
       "mpl.figure = function(figure_id, websocket, ondownload, parent_element) {\n",
       "    this.id = figure_id;\n",
       "\n",
       "    this.ws = websocket;\n",
       "\n",
       "    this.supports_binary = (this.ws.binaryType != undefined);\n",
       "\n",
       "    if (!this.supports_binary) {\n",
       "        var warnings = document.getElementById(\"mpl-warnings\");\n",
       "        if (warnings) {\n",
       "            warnings.style.display = 'block';\n",
       "            warnings.textContent = (\n",
       "                \"This browser does not support binary websocket messages. \" +\n",
       "                    \"Performance may be slow.\");\n",
       "        }\n",
       "    }\n",
       "\n",
       "    this.imageObj = new Image();\n",
       "\n",
       "    this.context = undefined;\n",
       "    this.message = undefined;\n",
       "    this.canvas = undefined;\n",
       "    this.rubberband_canvas = undefined;\n",
       "    this.rubberband_context = undefined;\n",
       "    this.format_dropdown = undefined;\n",
       "\n",
       "    this.image_mode = 'full';\n",
       "\n",
       "    this.root = $('<div/>');\n",
       "    this._root_extra_style(this.root)\n",
       "    this.root.attr('style', 'display: inline-block');\n",
       "\n",
       "    $(parent_element).append(this.root);\n",
       "\n",
       "    this._init_header(this);\n",
       "    this._init_canvas(this);\n",
       "    this._init_toolbar(this);\n",
       "\n",
       "    var fig = this;\n",
       "\n",
       "    this.waiting = false;\n",
       "\n",
       "    this.ws.onopen =  function () {\n",
       "            fig.send_message(\"supports_binary\", {value: fig.supports_binary});\n",
       "            fig.send_message(\"send_image_mode\", {});\n",
       "            if (mpl.ratio != 1) {\n",
       "                fig.send_message(\"set_dpi_ratio\", {'dpi_ratio': mpl.ratio});\n",
       "            }\n",
       "            fig.send_message(\"refresh\", {});\n",
       "        }\n",
       "\n",
       "    this.imageObj.onload = function() {\n",
       "            if (fig.image_mode == 'full') {\n",
       "                // Full images could contain transparency (where diff images\n",
       "                // almost always do), so we need to clear the canvas so that\n",
       "                // there is no ghosting.\n",
       "                fig.context.clearRect(0, 0, fig.canvas.width, fig.canvas.height);\n",
       "            }\n",
       "            fig.context.drawImage(fig.imageObj, 0, 0);\n",
       "        };\n",
       "\n",
       "    this.imageObj.onunload = function() {\n",
       "        fig.ws.close();\n",
       "    }\n",
       "\n",
       "    this.ws.onmessage = this._make_on_message_function(this);\n",
       "\n",
       "    this.ondownload = ondownload;\n",
       "}\n",
       "\n",
       "mpl.figure.prototype._init_header = function() {\n",
       "    var titlebar = $(\n",
       "        '<div class=\"ui-dialog-titlebar ui-widget-header ui-corner-all ' +\n",
       "        'ui-helper-clearfix\"/>');\n",
       "    var titletext = $(\n",
       "        '<div class=\"ui-dialog-title\" style=\"width: 100%; ' +\n",
       "        'text-align: center; padding: 3px;\"/>');\n",
       "    titlebar.append(titletext)\n",
       "    this.root.append(titlebar);\n",
       "    this.header = titletext[0];\n",
       "}\n",
       "\n",
       "\n",
       "\n",
       "mpl.figure.prototype._canvas_extra_style = function(canvas_div) {\n",
       "\n",
       "}\n",
       "\n",
       "\n",
       "mpl.figure.prototype._root_extra_style = function(canvas_div) {\n",
       "\n",
       "}\n",
       "\n",
       "mpl.figure.prototype._init_canvas = function() {\n",
       "    var fig = this;\n",
       "\n",
       "    var canvas_div = $('<div/>');\n",
       "\n",
       "    canvas_div.attr('style', 'position: relative; clear: both; outline: 0');\n",
       "\n",
       "    function canvas_keyboard_event(event) {\n",
       "        return fig.key_event(event, event['data']);\n",
       "    }\n",
       "\n",
       "    canvas_div.keydown('key_press', canvas_keyboard_event);\n",
       "    canvas_div.keyup('key_release', canvas_keyboard_event);\n",
       "    this.canvas_div = canvas_div\n",
       "    this._canvas_extra_style(canvas_div)\n",
       "    this.root.append(canvas_div);\n",
       "\n",
       "    var canvas = $('<canvas/>');\n",
       "    canvas.addClass('mpl-canvas');\n",
       "    canvas.attr('style', \"left: 0; top: 0; z-index: 0; outline: 0\")\n",
       "\n",
       "    this.canvas = canvas[0];\n",
       "    this.context = canvas[0].getContext(\"2d\");\n",
       "\n",
       "    var backingStore = this.context.backingStorePixelRatio ||\n",
       "\tthis.context.webkitBackingStorePixelRatio ||\n",
       "\tthis.context.mozBackingStorePixelRatio ||\n",
       "\tthis.context.msBackingStorePixelRatio ||\n",
       "\tthis.context.oBackingStorePixelRatio ||\n",
       "\tthis.context.backingStorePixelRatio || 1;\n",
       "\n",
       "    mpl.ratio = (window.devicePixelRatio || 1) / backingStore;\n",
       "\n",
       "    var rubberband = $('<canvas/>');\n",
       "    rubberband.attr('style', \"position: absolute; left: 0; top: 0; z-index: 1;\")\n",
       "\n",
       "    var pass_mouse_events = true;\n",
       "\n",
       "    canvas_div.resizable({\n",
       "        start: function(event, ui) {\n",
       "            pass_mouse_events = false;\n",
       "        },\n",
       "        resize: function(event, ui) {\n",
       "            fig.request_resize(ui.size.width, ui.size.height);\n",
       "        },\n",
       "        stop: function(event, ui) {\n",
       "            pass_mouse_events = true;\n",
       "            fig.request_resize(ui.size.width, ui.size.height);\n",
       "        },\n",
       "    });\n",
       "\n",
       "    function mouse_event_fn(event) {\n",
       "        if (pass_mouse_events)\n",
       "            return fig.mouse_event(event, event['data']);\n",
       "    }\n",
       "\n",
       "    rubberband.mousedown('button_press', mouse_event_fn);\n",
       "    rubberband.mouseup('button_release', mouse_event_fn);\n",
       "    // Throttle sequential mouse events to 1 every 20ms.\n",
       "    rubberband.mousemove('motion_notify', mouse_event_fn);\n",
       "\n",
       "    rubberband.mouseenter('figure_enter', mouse_event_fn);\n",
       "    rubberband.mouseleave('figure_leave', mouse_event_fn);\n",
       "\n",
       "    canvas_div.on(\"wheel\", function (event) {\n",
       "        event = event.originalEvent;\n",
       "        event['data'] = 'scroll'\n",
       "        if (event.deltaY < 0) {\n",
       "            event.step = 1;\n",
       "        } else {\n",
       "            event.step = -1;\n",
       "        }\n",
       "        mouse_event_fn(event);\n",
       "    });\n",
       "\n",
       "    canvas_div.append(canvas);\n",
       "    canvas_div.append(rubberband);\n",
       "\n",
       "    this.rubberband = rubberband;\n",
       "    this.rubberband_canvas = rubberband[0];\n",
       "    this.rubberband_context = rubberband[0].getContext(\"2d\");\n",
       "    this.rubberband_context.strokeStyle = \"#000000\";\n",
       "\n",
       "    this._resize_canvas = function(width, height) {\n",
       "        // Keep the size of the canvas, canvas container, and rubber band\n",
       "        // canvas in synch.\n",
       "        canvas_div.css('width', width)\n",
       "        canvas_div.css('height', height)\n",
       "\n",
       "        canvas.attr('width', width * mpl.ratio);\n",
       "        canvas.attr('height', height * mpl.ratio);\n",
       "        canvas.attr('style', 'width: ' + width + 'px; height: ' + height + 'px;');\n",
       "\n",
       "        rubberband.attr('width', width);\n",
       "        rubberband.attr('height', height);\n",
       "    }\n",
       "\n",
       "    // Set the figure to an initial 600x600px, this will subsequently be updated\n",
       "    // upon first draw.\n",
       "    this._resize_canvas(600, 600);\n",
       "\n",
       "    // Disable right mouse context menu.\n",
       "    $(this.rubberband_canvas).bind(\"contextmenu\",function(e){\n",
       "        return false;\n",
       "    });\n",
       "\n",
       "    function set_focus () {\n",
       "        canvas.focus();\n",
       "        canvas_div.focus();\n",
       "    }\n",
       "\n",
       "    window.setTimeout(set_focus, 100);\n",
       "}\n",
       "\n",
       "mpl.figure.prototype._init_toolbar = function() {\n",
       "    var fig = this;\n",
       "\n",
       "    var nav_element = $('<div/>')\n",
       "    nav_element.attr('style', 'width: 100%');\n",
       "    this.root.append(nav_element);\n",
       "\n",
       "    // Define a callback function for later on.\n",
       "    function toolbar_event(event) {\n",
       "        return fig.toolbar_button_onclick(event['data']);\n",
       "    }\n",
       "    function toolbar_mouse_event(event) {\n",
       "        return fig.toolbar_button_onmouseover(event['data']);\n",
       "    }\n",
       "\n",
       "    for(var toolbar_ind in mpl.toolbar_items) {\n",
       "        var name = mpl.toolbar_items[toolbar_ind][0];\n",
       "        var tooltip = mpl.toolbar_items[toolbar_ind][1];\n",
       "        var image = mpl.toolbar_items[toolbar_ind][2];\n",
       "        var method_name = mpl.toolbar_items[toolbar_ind][3];\n",
       "\n",
       "        if (!name) {\n",
       "            // put a spacer in here.\n",
       "            continue;\n",
       "        }\n",
       "        var button = $('<button/>');\n",
       "        button.addClass('ui-button ui-widget ui-state-default ui-corner-all ' +\n",
       "                        'ui-button-icon-only');\n",
       "        button.attr('role', 'button');\n",
       "        button.attr('aria-disabled', 'false');\n",
       "        button.click(method_name, toolbar_event);\n",
       "        button.mouseover(tooltip, toolbar_mouse_event);\n",
       "\n",
       "        var icon_img = $('<span/>');\n",
       "        icon_img.addClass('ui-button-icon-primary ui-icon');\n",
       "        icon_img.addClass(image);\n",
       "        icon_img.addClass('ui-corner-all');\n",
       "\n",
       "        var tooltip_span = $('<span/>');\n",
       "        tooltip_span.addClass('ui-button-text');\n",
       "        tooltip_span.html(tooltip);\n",
       "\n",
       "        button.append(icon_img);\n",
       "        button.append(tooltip_span);\n",
       "\n",
       "        nav_element.append(button);\n",
       "    }\n",
       "\n",
       "    var fmt_picker_span = $('<span/>');\n",
       "\n",
       "    var fmt_picker = $('<select/>');\n",
       "    fmt_picker.addClass('mpl-toolbar-option ui-widget ui-widget-content');\n",
       "    fmt_picker_span.append(fmt_picker);\n",
       "    nav_element.append(fmt_picker_span);\n",
       "    this.format_dropdown = fmt_picker[0];\n",
       "\n",
       "    for (var ind in mpl.extensions) {\n",
       "        var fmt = mpl.extensions[ind];\n",
       "        var option = $(\n",
       "            '<option/>', {selected: fmt === mpl.default_extension}).html(fmt);\n",
       "        fmt_picker.append(option)\n",
       "    }\n",
       "\n",
       "    // Add hover states to the ui-buttons\n",
       "    $( \".ui-button\" ).hover(\n",
       "        function() { $(this).addClass(\"ui-state-hover\");},\n",
       "        function() { $(this).removeClass(\"ui-state-hover\");}\n",
       "    );\n",
       "\n",
       "    var status_bar = $('<span class=\"mpl-message\"/>');\n",
       "    nav_element.append(status_bar);\n",
       "    this.message = status_bar[0];\n",
       "}\n",
       "\n",
       "mpl.figure.prototype.request_resize = function(x_pixels, y_pixels) {\n",
       "    // Request matplotlib to resize the figure. Matplotlib will then trigger a resize in the client,\n",
       "    // which will in turn request a refresh of the image.\n",
       "    this.send_message('resize', {'width': x_pixels, 'height': y_pixels});\n",
       "}\n",
       "\n",
       "mpl.figure.prototype.send_message = function(type, properties) {\n",
       "    properties['type'] = type;\n",
       "    properties['figure_id'] = this.id;\n",
       "    this.ws.send(JSON.stringify(properties));\n",
       "}\n",
       "\n",
       "mpl.figure.prototype.send_draw_message = function() {\n",
       "    if (!this.waiting) {\n",
       "        this.waiting = true;\n",
       "        this.ws.send(JSON.stringify({type: \"draw\", figure_id: this.id}));\n",
       "    }\n",
       "}\n",
       "\n",
       "\n",
       "mpl.figure.prototype.handle_save = function(fig, msg) {\n",
       "    var format_dropdown = fig.format_dropdown;\n",
       "    var format = format_dropdown.options[format_dropdown.selectedIndex].value;\n",
       "    fig.ondownload(fig, format);\n",
       "}\n",
       "\n",
       "\n",
       "mpl.figure.prototype.handle_resize = function(fig, msg) {\n",
       "    var size = msg['size'];\n",
       "    if (size[0] != fig.canvas.width || size[1] != fig.canvas.height) {\n",
       "        fig._resize_canvas(size[0], size[1]);\n",
       "        fig.send_message(\"refresh\", {});\n",
       "    };\n",
       "}\n",
       "\n",
       "mpl.figure.prototype.handle_rubberband = function(fig, msg) {\n",
       "    var x0 = msg['x0'] / mpl.ratio;\n",
       "    var y0 = (fig.canvas.height - msg['y0']) / mpl.ratio;\n",
       "    var x1 = msg['x1'] / mpl.ratio;\n",
       "    var y1 = (fig.canvas.height - msg['y1']) / mpl.ratio;\n",
       "    x0 = Math.floor(x0) + 0.5;\n",
       "    y0 = Math.floor(y0) + 0.5;\n",
       "    x1 = Math.floor(x1) + 0.5;\n",
       "    y1 = Math.floor(y1) + 0.5;\n",
       "    var min_x = Math.min(x0, x1);\n",
       "    var min_y = Math.min(y0, y1);\n",
       "    var width = Math.abs(x1 - x0);\n",
       "    var height = Math.abs(y1 - y0);\n",
       "\n",
       "    fig.rubberband_context.clearRect(\n",
       "        0, 0, fig.canvas.width, fig.canvas.height);\n",
       "\n",
       "    fig.rubberband_context.strokeRect(min_x, min_y, width, height);\n",
       "}\n",
       "\n",
       "mpl.figure.prototype.handle_figure_label = function(fig, msg) {\n",
       "    // Updates the figure title.\n",
       "    fig.header.textContent = msg['label'];\n",
       "}\n",
       "\n",
       "mpl.figure.prototype.handle_cursor = function(fig, msg) {\n",
       "    var cursor = msg['cursor'];\n",
       "    switch(cursor)\n",
       "    {\n",
       "    case 0:\n",
       "        cursor = 'pointer';\n",
       "        break;\n",
       "    case 1:\n",
       "        cursor = 'default';\n",
       "        break;\n",
       "    case 2:\n",
       "        cursor = 'crosshair';\n",
       "        break;\n",
       "    case 3:\n",
       "        cursor = 'move';\n",
       "        break;\n",
       "    }\n",
       "    fig.rubberband_canvas.style.cursor = cursor;\n",
       "}\n",
       "\n",
       "mpl.figure.prototype.handle_message = function(fig, msg) {\n",
       "    fig.message.textContent = msg['message'];\n",
       "}\n",
       "\n",
       "mpl.figure.prototype.handle_draw = function(fig, msg) {\n",
       "    // Request the server to send over a new figure.\n",
       "    fig.send_draw_message();\n",
       "}\n",
       "\n",
       "mpl.figure.prototype.handle_image_mode = function(fig, msg) {\n",
       "    fig.image_mode = msg['mode'];\n",
       "}\n",
       "\n",
       "mpl.figure.prototype.updated_canvas_event = function() {\n",
       "    // Called whenever the canvas gets updated.\n",
       "    this.send_message(\"ack\", {});\n",
       "}\n",
       "\n",
       "// A function to construct a web socket function for onmessage handling.\n",
       "// Called in the figure constructor.\n",
       "mpl.figure.prototype._make_on_message_function = function(fig) {\n",
       "    return function socket_on_message(evt) {\n",
       "        if (evt.data instanceof Blob) {\n",
       "            /* FIXME: We get \"Resource interpreted as Image but\n",
       "             * transferred with MIME type text/plain:\" errors on\n",
       "             * Chrome.  But how to set the MIME type?  It doesn't seem\n",
       "             * to be part of the websocket stream */\n",
       "            evt.data.type = \"image/png\";\n",
       "\n",
       "            /* Free the memory for the previous frames */\n",
       "            if (fig.imageObj.src) {\n",
       "                (window.URL || window.webkitURL).revokeObjectURL(\n",
       "                    fig.imageObj.src);\n",
       "            }\n",
       "\n",
       "            fig.imageObj.src = (window.URL || window.webkitURL).createObjectURL(\n",
       "                evt.data);\n",
       "            fig.updated_canvas_event();\n",
       "            fig.waiting = false;\n",
       "            return;\n",
       "        }\n",
       "        else if (typeof evt.data === 'string' && evt.data.slice(0, 21) == \"data:image/png;base64\") {\n",
       "            fig.imageObj.src = evt.data;\n",
       "            fig.updated_canvas_event();\n",
       "            fig.waiting = false;\n",
       "            return;\n",
       "        }\n",
       "\n",
       "        var msg = JSON.parse(evt.data);\n",
       "        var msg_type = msg['type'];\n",
       "\n",
       "        // Call the  \"handle_{type}\" callback, which takes\n",
       "        // the figure and JSON message as its only arguments.\n",
       "        try {\n",
       "            var callback = fig[\"handle_\" + msg_type];\n",
       "        } catch (e) {\n",
       "            console.log(\"No handler for the '\" + msg_type + \"' message type: \", msg);\n",
       "            return;\n",
       "        }\n",
       "\n",
       "        if (callback) {\n",
       "            try {\n",
       "                // console.log(\"Handling '\" + msg_type + \"' message: \", msg);\n",
       "                callback(fig, msg);\n",
       "            } catch (e) {\n",
       "                console.log(\"Exception inside the 'handler_\" + msg_type + \"' callback:\", e, e.stack, msg);\n",
       "            }\n",
       "        }\n",
       "    };\n",
       "}\n",
       "\n",
       "// from http://stackoverflow.com/questions/1114465/getting-mouse-location-in-canvas\n",
       "mpl.findpos = function(e) {\n",
       "    //this section is from http://www.quirksmode.org/js/events_properties.html\n",
       "    var targ;\n",
       "    if (!e)\n",
       "        e = window.event;\n",
       "    if (e.target)\n",
       "        targ = e.target;\n",
       "    else if (e.srcElement)\n",
       "        targ = e.srcElement;\n",
       "    if (targ.nodeType == 3) // defeat Safari bug\n",
       "        targ = targ.parentNode;\n",
       "\n",
       "    // jQuery normalizes the pageX and pageY\n",
       "    // pageX,Y are the mouse positions relative to the document\n",
       "    // offset() returns the position of the element relative to the document\n",
       "    var x = e.pageX - $(targ).offset().left;\n",
       "    var y = e.pageY - $(targ).offset().top;\n",
       "\n",
       "    return {\"x\": x, \"y\": y};\n",
       "};\n",
       "\n",
       "/*\n",
       " * return a copy of an object with only non-object keys\n",
       " * we need this to avoid circular references\n",
       " * http://stackoverflow.com/a/24161582/3208463\n",
       " */\n",
       "function simpleKeys (original) {\n",
       "  return Object.keys(original).reduce(function (obj, key) {\n",
       "    if (typeof original[key] !== 'object')\n",
       "        obj[key] = original[key]\n",
       "    return obj;\n",
       "  }, {});\n",
       "}\n",
       "\n",
       "mpl.figure.prototype.mouse_event = function(event, name) {\n",
       "    var canvas_pos = mpl.findpos(event)\n",
       "\n",
       "    if (name === 'button_press')\n",
       "    {\n",
       "        this.canvas.focus();\n",
       "        this.canvas_div.focus();\n",
       "    }\n",
       "\n",
       "    var x = canvas_pos.x * mpl.ratio;\n",
       "    var y = canvas_pos.y * mpl.ratio;\n",
       "\n",
       "    this.send_message(name, {x: x, y: y, button: event.button,\n",
       "                             step: event.step,\n",
       "                             guiEvent: simpleKeys(event)});\n",
       "\n",
       "    /* This prevents the web browser from automatically changing to\n",
       "     * the text insertion cursor when the button is pressed.  We want\n",
       "     * to control all of the cursor setting manually through the\n",
       "     * 'cursor' event from matplotlib */\n",
       "    event.preventDefault();\n",
       "    return false;\n",
       "}\n",
       "\n",
       "mpl.figure.prototype._key_event_extra = function(event, name) {\n",
       "    // Handle any extra behaviour associated with a key event\n",
       "}\n",
       "\n",
       "mpl.figure.prototype.key_event = function(event, name) {\n",
       "\n",
       "    // Prevent repeat events\n",
       "    if (name == 'key_press')\n",
       "    {\n",
       "        if (event.which === this._key)\n",
       "            return;\n",
       "        else\n",
       "            this._key = event.which;\n",
       "    }\n",
       "    if (name == 'key_release')\n",
       "        this._key = null;\n",
       "\n",
       "    var value = '';\n",
       "    if (event.ctrlKey && event.which != 17)\n",
       "        value += \"ctrl+\";\n",
       "    if (event.altKey && event.which != 18)\n",
       "        value += \"alt+\";\n",
       "    if (event.shiftKey && event.which != 16)\n",
       "        value += \"shift+\";\n",
       "\n",
       "    value += 'k';\n",
       "    value += event.which.toString();\n",
       "\n",
       "    this._key_event_extra(event, name);\n",
       "\n",
       "    this.send_message(name, {key: value,\n",
       "                             guiEvent: simpleKeys(event)});\n",
       "    return false;\n",
       "}\n",
       "\n",
       "mpl.figure.prototype.toolbar_button_onclick = function(name) {\n",
       "    if (name == 'download') {\n",
       "        this.handle_save(this, null);\n",
       "    } else {\n",
       "        this.send_message(\"toolbar_button\", {name: name});\n",
       "    }\n",
       "};\n",
       "\n",
       "mpl.figure.prototype.toolbar_button_onmouseover = function(tooltip) {\n",
       "    this.message.textContent = tooltip;\n",
       "};\n",
       "mpl.toolbar_items = [[\"Home\", \"Reset original view\", \"fa fa-home icon-home\", \"home\"], [\"Back\", \"Back to  previous view\", \"fa fa-arrow-left icon-arrow-left\", \"back\"], [\"Forward\", \"Forward to next view\", \"fa fa-arrow-right icon-arrow-right\", \"forward\"], [\"\", \"\", \"\", \"\"], [\"Pan\", \"Pan axes with left mouse, zoom with right\", \"fa fa-arrows icon-move\", \"pan\"], [\"Zoom\", \"Zoom to rectangle\", \"fa fa-square-o icon-check-empty\", \"zoom\"], [\"\", \"\", \"\", \"\"], [\"Download\", \"Download plot\", \"fa fa-floppy-o icon-save\", \"download\"]];\n",
       "\n",
       "mpl.extensions = [\"eps\", \"jpeg\", \"pdf\", \"png\", \"ps\", \"raw\", \"svg\", \"tif\"];\n",
       "\n",
       "mpl.default_extension = \"png\";var comm_websocket_adapter = function(comm) {\n",
       "    // Create a \"websocket\"-like object which calls the given IPython comm\n",
       "    // object with the appropriate methods. Currently this is a non binary\n",
       "    // socket, so there is still some room for performance tuning.\n",
       "    var ws = {};\n",
       "\n",
       "    ws.close = function() {\n",
       "        comm.close()\n",
       "    };\n",
       "    ws.send = function(m) {\n",
       "        //console.log('sending', m);\n",
       "        comm.send(m);\n",
       "    };\n",
       "    // Register the callback with on_msg.\n",
       "    comm.on_msg(function(msg) {\n",
       "        //console.log('receiving', msg['content']['data'], msg);\n",
       "        // Pass the mpl event to the overriden (by mpl) onmessage function.\n",
       "        ws.onmessage(msg['content']['data'])\n",
       "    });\n",
       "    return ws;\n",
       "}\n",
       "\n",
       "mpl.mpl_figure_comm = function(comm, msg) {\n",
       "    // This is the function which gets called when the mpl process\n",
       "    // starts-up an IPython Comm through the \"matplotlib\" channel.\n",
       "\n",
       "    var id = msg.content.data.id;\n",
       "    // Get hold of the div created by the display call when the Comm\n",
       "    // socket was opened in Python.\n",
       "    var element = $(\"#\" + id);\n",
       "    var ws_proxy = comm_websocket_adapter(comm)\n",
       "\n",
       "    function ondownload(figure, format) {\n",
       "        window.open(figure.imageObj.src);\n",
       "    }\n",
       "\n",
       "    var fig = new mpl.figure(id, ws_proxy,\n",
       "                           ondownload,\n",
       "                           element.get(0));\n",
       "\n",
       "    // Call onopen now - mpl needs it, as it is assuming we've passed it a real\n",
       "    // web socket which is closed, not our websocket->open comm proxy.\n",
       "    ws_proxy.onopen();\n",
       "\n",
       "    fig.parent_element = element.get(0);\n",
       "    fig.cell_info = mpl.find_output_cell(\"<div id='\" + id + \"'></div>\");\n",
       "    if (!fig.cell_info) {\n",
       "        console.error(\"Failed to find cell for figure\", id, fig);\n",
       "        return;\n",
       "    }\n",
       "\n",
       "    var output_index = fig.cell_info[2]\n",
       "    var cell = fig.cell_info[0];\n",
       "\n",
       "};\n",
       "\n",
       "mpl.figure.prototype.handle_close = function(fig, msg) {\n",
       "    var width = fig.canvas.width/mpl.ratio\n",
       "    fig.root.unbind('remove')\n",
       "\n",
       "    // Update the output cell to use the data from the current canvas.\n",
       "    fig.push_to_output();\n",
       "    var dataURL = fig.canvas.toDataURL();\n",
       "    // Re-enable the keyboard manager in IPython - without this line, in FF,\n",
       "    // the notebook keyboard shortcuts fail.\n",
       "    IPython.keyboard_manager.enable()\n",
       "    $(fig.parent_element).html('<img src=\"' + dataURL + '\" width=\"' + width + '\">');\n",
       "    fig.close_ws(fig, msg);\n",
       "}\n",
       "\n",
       "mpl.figure.prototype.close_ws = function(fig, msg){\n",
       "    fig.send_message('closing', msg);\n",
       "    // fig.ws.close()\n",
       "}\n",
       "\n",
       "mpl.figure.prototype.push_to_output = function(remove_interactive) {\n",
       "    // Turn the data on the canvas into data in the output cell.\n",
       "    var width = this.canvas.width/mpl.ratio\n",
       "    var dataURL = this.canvas.toDataURL();\n",
       "    this.cell_info[1]['text/html'] = '<img src=\"' + dataURL + '\" width=\"' + width + '\">';\n",
       "}\n",
       "\n",
       "mpl.figure.prototype.updated_canvas_event = function() {\n",
       "    // Tell IPython that the notebook contents must change.\n",
       "    IPython.notebook.set_dirty(true);\n",
       "    this.send_message(\"ack\", {});\n",
       "    var fig = this;\n",
       "    // Wait a second, then push the new image to the DOM so\n",
       "    // that it is saved nicely (might be nice to debounce this).\n",
       "    setTimeout(function () { fig.push_to_output() }, 1000);\n",
       "}\n",
       "\n",
       "mpl.figure.prototype._init_toolbar = function() {\n",
       "    var fig = this;\n",
       "\n",
       "    var nav_element = $('<div/>')\n",
       "    nav_element.attr('style', 'width: 100%');\n",
       "    this.root.append(nav_element);\n",
       "\n",
       "    // Define a callback function for later on.\n",
       "    function toolbar_event(event) {\n",
       "        return fig.toolbar_button_onclick(event['data']);\n",
       "    }\n",
       "    function toolbar_mouse_event(event) {\n",
       "        return fig.toolbar_button_onmouseover(event['data']);\n",
       "    }\n",
       "\n",
       "    for(var toolbar_ind in mpl.toolbar_items){\n",
       "        var name = mpl.toolbar_items[toolbar_ind][0];\n",
       "        var tooltip = mpl.toolbar_items[toolbar_ind][1];\n",
       "        var image = mpl.toolbar_items[toolbar_ind][2];\n",
       "        var method_name = mpl.toolbar_items[toolbar_ind][3];\n",
       "\n",
       "        if (!name) { continue; };\n",
       "\n",
       "        var button = $('<button class=\"btn btn-default\" href=\"#\" title=\"' + name + '\"><i class=\"fa ' + image + ' fa-lg\"></i></button>');\n",
       "        button.click(method_name, toolbar_event);\n",
       "        button.mouseover(tooltip, toolbar_mouse_event);\n",
       "        nav_element.append(button);\n",
       "    }\n",
       "\n",
       "    // Add the status bar.\n",
       "    var status_bar = $('<span class=\"mpl-message\" style=\"text-align:right; float: right;\"/>');\n",
       "    nav_element.append(status_bar);\n",
       "    this.message = status_bar[0];\n",
       "\n",
       "    // Add the close button to the window.\n",
       "    var buttongrp = $('<div class=\"btn-group inline pull-right\"></div>');\n",
       "    var button = $('<button class=\"btn btn-mini btn-primary\" href=\"#\" title=\"Stop Interaction\"><i class=\"fa fa-power-off icon-remove icon-large\"></i></button>');\n",
       "    button.click(function (evt) { fig.handle_close(fig, {}); } );\n",
       "    button.mouseover('Stop Interaction', toolbar_mouse_event);\n",
       "    buttongrp.append(button);\n",
       "    var titlebar = this.root.find($('.ui-dialog-titlebar'));\n",
       "    titlebar.prepend(buttongrp);\n",
       "}\n",
       "\n",
       "mpl.figure.prototype._root_extra_style = function(el){\n",
       "    var fig = this\n",
       "    el.on(\"remove\", function(){\n",
       "\tfig.close_ws(fig, {});\n",
       "    });\n",
       "}\n",
       "\n",
       "mpl.figure.prototype._canvas_extra_style = function(el){\n",
       "    // this is important to make the div 'focusable\n",
       "    el.attr('tabindex', 0)\n",
       "    // reach out to IPython and tell the keyboard manager to turn it's self\n",
       "    // off when our div gets focus\n",
       "\n",
       "    // location in version 3\n",
       "    if (IPython.notebook.keyboard_manager) {\n",
       "        IPython.notebook.keyboard_manager.register_events(el);\n",
       "    }\n",
       "    else {\n",
       "        // location in version 2\n",
       "        IPython.keyboard_manager.register_events(el);\n",
       "    }\n",
       "\n",
       "}\n",
       "\n",
       "mpl.figure.prototype._key_event_extra = function(event, name) {\n",
       "    var manager = IPython.notebook.keyboard_manager;\n",
       "    if (!manager)\n",
       "        manager = IPython.keyboard_manager;\n",
       "\n",
       "    // Check for shift+enter\n",
       "    if (event.shiftKey && event.which == 13) {\n",
       "        this.canvas_div.blur();\n",
       "        event.shiftKey = false;\n",
       "        // Send a \"J\" for go to next cell\n",
       "        event.which = 74;\n",
       "        event.keyCode = 74;\n",
       "        manager.command_mode();\n",
       "        manager.handle_keydown(event);\n",
       "    }\n",
       "}\n",
       "\n",
       "mpl.figure.prototype.handle_save = function(fig, msg) {\n",
       "    fig.ondownload(fig, null);\n",
       "}\n",
       "\n",
       "\n",
       "mpl.find_output_cell = function(html_output) {\n",
       "    // Return the cell and output element which can be found *uniquely* in the notebook.\n",
       "    // Note - this is a bit hacky, but it is done because the \"notebook_saving.Notebook\"\n",
       "    // IPython event is triggered only after the cells have been serialised, which for\n",
       "    // our purposes (turning an active figure into a static one), is too late.\n",
       "    var cells = IPython.notebook.get_cells();\n",
       "    var ncells = cells.length;\n",
       "    for (var i=0; i<ncells; i++) {\n",
       "        var cell = cells[i];\n",
       "        if (cell.cell_type === 'code'){\n",
       "            for (var j=0; j<cell.output_area.outputs.length; j++) {\n",
       "                var data = cell.output_area.outputs[j];\n",
       "                if (data.data) {\n",
       "                    // IPython >= 3 moved mimebundle to data attribute of output\n",
       "                    data = data.data;\n",
       "                }\n",
       "                if (data['text/html'] == html_output) {\n",
       "                    return [cell, data, j];\n",
       "                }\n",
       "            }\n",
       "        }\n",
       "    }\n",
       "}\n",
       "\n",
       "// Register the function which deals with the matplotlib target/channel.\n",
       "// The kernel may be null if the page has been refreshed.\n",
       "if (IPython.notebook.kernel != null) {\n",
       "    IPython.notebook.kernel.comm_manager.register_target('matplotlib', mpl.mpl_figure_comm);\n",
       "}\n"
      ],
      "text/plain": [
       "<IPython.core.display.Javascript object>"
      ]
     },
     "metadata": {},
     "output_type": "display_data"
    },
    {
     "data": {
      "text/html": [
       "<img src=\"data:image/png;base64,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\" width=\"734.7826239292025\">"
      ],
      "text/plain": [
       "<IPython.core.display.HTML object>"
      ]
     },
     "metadata": {},
     "output_type": "display_data"
    }
   ],
   "source": [
    "#Plots with 2 kernels\n",
    "%matplotlib notebook \n",
    "p = ker.lengthscale.values\n",
    "p_add = (ker_add.rbf.lengthscale.values+ker_add.ExpQuad.lengthscale.values)/2\n",
    "plt.figure()\n",
    "plt.plot(p, label=\"Lengthscale values of RBF Kernel\")\n",
    "plt.plot(p_add, label=\"Lengthscale values of RBF+ExpQuad Kernel\")\n",
    "plt.legend()\n",
    "plt.show()"
   ]
  },
  {
   "cell_type": "markdown",
   "metadata": {},
   "source": [
    "**I used sum of 2 different kernels (RBF + ExpQuad). Comparing the MAE scores, they perform very similar (single kernel worked little better).**\n",
    " \n",
    "**According to the plot, order of the variables according to the importance does not change with these 2 kernels.**"
   ]
  },
  {
   "cell_type": "markdown",
   "metadata": {},
   "source": [
    "### Sparse GP implementation \n",
    "\n",
    "Try to implement an sparse version of the GP regressor, optimized to find a set of **inducing points** that the GP relies on to do the prediction. Measure the test error prediction for 20, 40, and 100 inducing points."
   ]
  },
  {
   "cell_type": "code",
   "execution_count": 26,
   "metadata": {
    "collapsed": true
   },
   "outputs": [
    {
     "name": "stdout",
     "output_type": "stream",
     "text": [
      "\n",
      "Name : sparse_gp\n",
      "Objective : 121349.95030893994\n",
      "Number of Parameters : 133\n",
      "Number of Optimization Parameters : 133\n",
      "Updates : True\n",
      "Parameters:\n",
      "  \u001b[1msparse_gp.             \u001b[0;0m  |     value  |  constraints  |  priors\n",
      "  \u001b[1minducing_inputs        \u001b[0;0m  |  (10, 13)  |               |        \n",
      "  \u001b[1mrbf.variance           \u001b[0;0m  |       1.0  |      +ve      |        \n",
      "  \u001b[1mrbf.lengthscale        \u001b[0;0m  |       1.0  |      +ve      |        \n",
      "  \u001b[1mGaussian_noise.variance\u001b[0;0m  |       1.0  |      +ve      |        \n"
     ]
    },
    {
     "data": {
      "text/plain": [
       "<paramz.optimization.optimization.opt_lbfgsb at 0x1ed916b5470>"
      ]
     },
     "execution_count": 26,
     "metadata": {},
     "output_type": "execute_result"
    }
   ],
   "source": [
    "m_sparse = GPy.models.SparseGPRegression(X_train,y_train)\n",
    "print(m_sparse)\n",
    "m_sparse.optimize('bfgs')"
   ]
  },
  {
   "cell_type": "code",
   "execution_count": 40,
   "metadata": {},
   "outputs": [
    {
     "name": "stdout",
     "output_type": "stream",
     "text": [
      "Mean Absolute Error: 21.28773584905337\n"
     ]
    }
   ],
   "source": [
    "#MAE\n",
    "y_pred_sparse,_ = m_sparse.predict(X_test, full_cov=True)\n",
    "mae = mean_absolute_error(y_test, y_pred_sparse)\n",
    "print(\"Mean Absolute Error:\", mae)"
   ]
  },
  {
   "cell_type": "code",
   "execution_count": 28,
   "metadata": {
    "collapsed": true
   },
   "outputs": [
    {
     "name": "stdout",
     "output_type": "stream",
     "text": [
      "\n",
      "Name : sparse_gp\n",
      "Objective : 4938.502068232217\n",
      "Number of Parameters : 133\n",
      "Number of Optimization Parameters : 133\n",
      "Updates : True\n",
      "Parameters:\n",
      "  \u001b[1msparse_gp.             \u001b[0;0m  |     value  |  constraints  |  priors\n",
      "  \u001b[1minducing_inputs        \u001b[0;0m  |  (10, 13)  |               |        \n",
      "  \u001b[1mrbf.variance           \u001b[0;0m  |       1.0  |      +ve      |        \n",
      "  \u001b[1mrbf.lengthscale        \u001b[0;0m  |       1.0  |      +ve      |        \n",
      "  \u001b[1mGaussian_noise.variance\u001b[0;0m  |       1.0  |      +ve      |        \n"
     ]
    },
    {
     "data": {
      "text/plain": [
       "<paramz.optimization.optimization.opt_lbfgsb at 0x1ed916b57b8>"
      ]
     },
     "execution_count": 28,
     "metadata": {},
     "output_type": "execute_result"
    }
   ],
   "source": [
    "#Randomly chosen 20 inducing points\n",
    "\n",
    "ins=np.random.choice(400,20)\n",
    "m_sparse_20 = GPy.models.SparseGPRegression(X_train[ins,:],y_train[ins,:])\n",
    "print(m_sparse_20)\n",
    "#m_sparse.inducing_inputs.fix()\n",
    "m_sparse.optimize('bfgs')"
   ]
  },
  {
   "cell_type": "code",
   "execution_count": 41,
   "metadata": {},
   "outputs": [
    {
     "name": "stdout",
     "output_type": "stream",
     "text": [
      "Mean Absolute Error: 21.287713800936114\n"
     ]
    }
   ],
   "source": [
    "#MAE 20\n",
    "y_pred_sparse_20,_ = m_sparse_20.predict(X_test, full_cov=True)\n",
    "mae = mean_absolute_error(y_test, y_pred_sparse_20)\n",
    "print(\"Mean Absolute Error:\", mae)"
   ]
  },
  {
   "cell_type": "code",
   "execution_count": 30,
   "metadata": {
    "collapsed": true
   },
   "outputs": [
    {
     "name": "stdout",
     "output_type": "stream",
     "text": [
      "\n",
      "Name : sparse_gp\n",
      "Objective : 9141.082777236019\n",
      "Number of Parameters : 133\n",
      "Number of Optimization Parameters : 133\n",
      "Updates : True\n",
      "Parameters:\n",
      "  \u001b[1msparse_gp.             \u001b[0;0m  |     value  |  constraints  |  priors\n",
      "  \u001b[1minducing_inputs        \u001b[0;0m  |  (10, 13)  |               |        \n",
      "  \u001b[1mrbf.variance           \u001b[0;0m  |       1.0  |      +ve      |        \n",
      "  \u001b[1mrbf.lengthscale        \u001b[0;0m  |       1.0  |      +ve      |        \n",
      "  \u001b[1mGaussian_noise.variance\u001b[0;0m  |       1.0  |      +ve      |        \n"
     ]
    },
    {
     "data": {
      "text/plain": [
       "<paramz.optimization.optimization.opt_lbfgsb at 0x1ed916c2cc0>"
      ]
     },
     "execution_count": 30,
     "metadata": {},
     "output_type": "execute_result"
    }
   ],
   "source": [
    "#Randomly chosen 40 inducing points\n",
    "\n",
    "ins=np.random.choice(400,40)\n",
    "m_sparse_40 = GPy.models.SparseGPRegression(X_train[ins,:],y_train[ins,:])\n",
    "print(m_sparse_40)\n",
    "#m_sparse.inducing_inputs.fix()\n",
    "m_sparse.optimize('bfgs')"
   ]
  },
  {
   "cell_type": "code",
   "execution_count": 42,
   "metadata": {},
   "outputs": [
    {
     "name": "stdout",
     "output_type": "stream",
     "text": [
      "Mean Absolute Error: 21.07303358052602\n"
     ]
    }
   ],
   "source": [
    "#MAE 40\n",
    "y_pred_sparse_40,_ = m_sparse_40.predict(X_test, full_cov=True)\n",
    "mae = mean_absolute_error(y_test, y_pred_sparse_40)\n",
    "print(\"Mean Absolute Error:\", mae)"
   ]
  },
  {
   "cell_type": "code",
   "execution_count": 33,
   "metadata": {
    "collapsed": true
   },
   "outputs": [
    {
     "name": "stdout",
     "output_type": "stream",
     "text": [
      "\n",
      "Name : sparse_gp\n",
      "Objective : 29096.19775717365\n",
      "Number of Parameters : 133\n",
      "Number of Optimization Parameters : 133\n",
      "Updates : True\n",
      "Parameters:\n",
      "  \u001b[1msparse_gp.             \u001b[0;0m  |     value  |  constraints  |  priors\n",
      "  \u001b[1minducing_inputs        \u001b[0;0m  |  (10, 13)  |               |        \n",
      "  \u001b[1mrbf.variance           \u001b[0;0m  |       1.0  |      +ve      |        \n",
      "  \u001b[1mrbf.lengthscale        \u001b[0;0m  |       1.0  |      +ve      |        \n",
      "  \u001b[1mGaussian_noise.variance\u001b[0;0m  |       1.0  |      +ve      |        \n"
     ]
    },
    {
     "data": {
      "text/plain": [
       "<paramz.optimization.optimization.opt_lbfgsb at 0x1ed91674cf8>"
      ]
     },
     "execution_count": 33,
     "metadata": {},
     "output_type": "execute_result"
    }
   ],
   "source": [
    "#Randomly chosen 100 inducing points\n",
    "\n",
    "ins=np.random.choice(400,100)\n",
    "m_sparse_100 = GPy.models.SparseGPRegression(X_train[ins,:],y_train[ins,:])\n",
    "print(m_sparse_100)\n",
    "#m_sparse.inducing_inputs.fix()\n",
    "m_sparse_100.optimize('bfgs')"
   ]
  },
  {
   "cell_type": "code",
   "execution_count": 43,
   "metadata": {},
   "outputs": [
    {
     "name": "stdout",
     "output_type": "stream",
     "text": [
      "Mean Absolute Error: 3.4009817938314737\n"
     ]
    }
   ],
   "source": [
    "#MAE 100\n",
    "y_pred_sparse_100,_ = m_sparse_100.predict(X_test, full_cov=True)\n",
    "mae = mean_absolute_error(y_test, y_pred_sparse_100)\n",
    "print(\"Mean Absolute Error:\", mae)"
   ]
  },
  {
   "cell_type": "markdown",
   "metadata": {},
   "source": [
    "**Each time I increase the *inducing points*, obtained mae score decreased. Training with more data points improved the model performance**"
   ]
  }
 ],
 "metadata": {
  "kernelspec": {
   "display_name": "Python 3",
   "language": "python",
   "name": "python3"
  },
  "language_info": {
   "codemirror_mode": {
    "name": "ipython",
    "version": 3
   },
   "file_extension": ".py",
   "mimetype": "text/x-python",
   "name": "python",
   "nbconvert_exporter": "python",
   "pygments_lexer": "ipython3",
   "version": "3.6.4"
  }
 },
 "nbformat": 4,
 "nbformat_minor": 1
}
